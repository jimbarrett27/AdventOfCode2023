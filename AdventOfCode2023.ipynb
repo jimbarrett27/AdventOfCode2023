{
 "cells": [
  {
   "cell_type": "markdown",
   "id": "366e646d-17cf-45cb-8f33-0fefb2ad0052",
   "metadata": {},
   "source": [
    "# Day 1"
   ]
  },
  {
   "cell_type": "code",
   "execution_count": 1,
   "id": "dab96497-9bca-4b38-b161-4f782d905a5d",
   "metadata": {},
   "outputs": [],
   "source": [
    "test_data = \"\"\"\n",
    "two1nine\n",
    "eightwothree\n",
    "abcone2threexyz\n",
    "xtwone3four\n",
    "4nineeightseven2\n",
    "zoneight234\n",
    "7pqrstsixteen\n",
    "\"\"\"\n",
    "test_lines = test_data.split()"
   ]
  },
  {
   "cell_type": "code",
   "execution_count": 2,
   "id": "3ca6ce26-16ac-4b86-8e1b-071c81751943",
   "metadata": {},
   "outputs": [
    {
     "data": {
      "text/plain": [
       "['two1nine',\n",
       " 'eightwothree',\n",
       " 'abcone2threexyz',\n",
       " 'xtwone3four',\n",
       " '4nineeightseven2',\n",
       " 'zoneight234',\n",
       " '7pqrstsixteen']"
      ]
     },
     "execution_count": 2,
     "metadata": {},
     "output_type": "execute_result"
    }
   ],
   "source": [
    "test_lines"
   ]
  },
  {
   "cell_type": "code",
   "execution_count": 3,
   "id": "de415ce5-5e82-40a1-9f06-873e9173b317",
   "metadata": {},
   "outputs": [],
   "source": [
    "lines = []\n",
    "with open('C:/Users/jimb/Downloads/input.txt') as f:\n",
    "    for line in f:\n",
    "        lines.append(line)"
   ]
  },
  {
   "cell_type": "code",
   "execution_count": 4,
   "id": "dc266788-6fc2-46c5-9902-754f52ff8dd4",
   "metadata": {},
   "outputs": [
    {
     "data": {
      "text/plain": [
       "55712"
      ]
     },
     "execution_count": 4,
     "metadata": {},
     "output_type": "execute_result"
    }
   ],
   "source": [
    "# part 1\n",
    "total = 0\n",
    "for line in lines:\n",
    "    line = line.replace('\\n', '')\n",
    "    numbers = line\n",
    "    for c in 'abcdefghijklmnopqrstuvwxyz':\n",
    "        numbers = numbers.replace(c, '').replace(c.upper(), '')\n",
    "    total += int(numbers[0] + numbers[-1])\n",
    "total"
   ]
  },
  {
   "cell_type": "code",
   "execution_count": 5,
   "id": "e20f831e-53fc-433b-a92a-97226e8958f9",
   "metadata": {},
   "outputs": [
    {
     "data": {
      "text/plain": [
       "55413"
      ]
     },
     "execution_count": 5,
     "metadata": {},
     "output_type": "execute_result"
    }
   ],
   "source": [
    "# part 2\n",
    "total = 0\n",
    "for line in lines:\n",
    "    line = line.replace('\\n', '').lower()\n",
    "    numbers = line\n",
    "    spelled_to_actual = {'one': 1, 'two': 2, 'three': 3, 'four': 4, 'five': 5, 'six': 6, 'seven': 7, 'eight': 8, 'nine': 9}\n",
    "\n",
    "    first_number = None\n",
    "    for i in range(len(numbers)):\n",
    "\n",
    "        if first_number is not None:\n",
    "            break\n",
    "\n",
    "        if numbers[i].isdigit():\n",
    "            first_number = numbers[i]\n",
    "            break\n",
    "        \n",
    "        for spelled, actual in spelled_to_actual.items():\n",
    "            if numbers[i:i+len(spelled)] == spelled:\n",
    "                first_number = str(actual)\n",
    "                break\n",
    "                \n",
    "                \n",
    "\n",
    "    last_number = None\n",
    "    for i in list(range(len(numbers)))[::-1]:\n",
    "        if last_number is not None:\n",
    "            break\n",
    "\n",
    "        if numbers[i].isdigit():\n",
    "            last_number = numbers[i]\n",
    "            break\n",
    "        \n",
    "        for spelled, actual in spelled_to_actual.items():\n",
    "            if numbers[i:i+len(spelled)] == spelled:\n",
    "                last_number = str(actual)\n",
    "                break\n",
    "\n",
    "    total += int(first_number + last_number)\n",
    "    \n",
    "total"
   ]
  },
  {
   "cell_type": "markdown",
   "id": "0ae8ce7a-2fa1-4e39-8b23-779f885239f1",
   "metadata": {},
   "source": [
    "# Day 2"
   ]
  },
  {
   "cell_type": "code",
   "execution_count": 6,
   "id": "bd3845dd-b5e6-45b0-a92a-922ac52ab8cf",
   "metadata": {},
   "outputs": [],
   "source": [
    "test_lines = \"\"\"\n",
    "Game 1: 3 blue, 4 red; 1 red, 2 green, 6 blue; 2 green\n",
    "Game 2: 1 blue, 2 green; 3 green, 4 blue, 1 red; 1 green, 1 blue\n",
    "Game 3: 8 green, 6 blue, 20 red; 5 blue, 4 red, 13 green; 5 green, 1 red\n",
    "Game 4: 1 green, 3 red, 6 blue; 3 green, 6 red; 3 green, 15 blue, 14 red\n",
    "Game 5: 6 red, 1 blue, 3 green; 2 blue, 1 red, 2 green\n",
    "\"\"\".split('\\n')[1:-1]"
   ]
  },
  {
   "cell_type": "code",
   "execution_count": 7,
   "id": "9d15320e-a2c0-4cb8-8e25-e965997c0488",
   "metadata": {},
   "outputs": [],
   "source": [
    "lines = []\n",
    "with open('C:/Users/jimb/Downloads/input2.txt') as f:\n",
    "    for line in f:\n",
    "        lines.append(line)"
   ]
  },
  {
   "cell_type": "code",
   "execution_count": 8,
   "id": "d5b65d37-c729-4654-9c43-dca98ad5020b",
   "metadata": {},
   "outputs": [
    {
     "data": {
      "text/plain": [
       "2879"
      ]
     },
     "execution_count": 8,
     "metadata": {},
     "output_type": "execute_result"
    }
   ],
   "source": [
    "max_counts = {'red': 12, 'green': 13, 'blue': 14}\n",
    "\n",
    "total = 0\n",
    "for line in lines:\n",
    "    game_and_id, games = line.split(':')\n",
    "    game_id = game_and_id.split()[-1]\n",
    "    legal_game = True\n",
    "    for game in games.split(';'):\n",
    "        for count_colour in game.split(','):\n",
    "            count, colour = count_colour.split()\n",
    "            if int(count) > max_counts[colour]:\n",
    "                legal_game = False\n",
    "\n",
    "    if legal_game:\n",
    "        total += int(game_id)\n",
    "total"
   ]
  },
  {
   "cell_type": "code",
   "execution_count": 9,
   "id": "760954bd-850f-410f-bc6c-2999d1620cfb",
   "metadata": {},
   "outputs": [
    {
     "data": {
      "text/plain": [
       "65122"
      ]
     },
     "execution_count": 9,
     "metadata": {},
     "output_type": "execute_result"
    }
   ],
   "source": [
    "total_power = 0\n",
    "for line in lines:\n",
    "    game_and_id, games = line.split(':')\n",
    "    game_id = game_and_id.split()[-1]\n",
    "\n",
    "    min_counts = {'red': 0, 'blue': 0, 'green':0}\n",
    "    for game in games.split(';'):\n",
    "        for count_colour in game.split(','):\n",
    "            count, colour = count_colour.split()\n",
    "            if int(count) > min_counts[colour]:\n",
    "                min_counts[colour] = int(count)\n",
    "    total_power += min_counts['red'] * min_counts['green'] * min_counts['blue']\n",
    "total_power"
   ]
  },
  {
   "cell_type": "markdown",
   "id": "6dee5897-f81a-4f04-9868-559ee4d13897",
   "metadata": {},
   "source": [
    "# Day 3"
   ]
  },
  {
   "cell_type": "code",
   "execution_count": 10,
   "id": "30b27782-12a3-4cae-a192-72e9ed7ccc31",
   "metadata": {},
   "outputs": [],
   "source": [
    "test_data = \"\"\"\n",
    "12.......*..\n",
    "+.........34\n",
    ".......-12..\n",
    "..78........\n",
    "..*....60...\n",
    "78.........9\n",
    ".5.....23..$\n",
    "8...90*12...\n",
    "............\n",
    "2.2......12.\n",
    ".*.........*\n",
    "1.1..503+.56\n",
    "\"\"\"\n",
    "\n",
    "test_lines = test_data.split()"
   ]
  },
  {
   "cell_type": "code",
   "execution_count": 11,
   "id": "ef4f9c54-19ef-4017-b0d4-382401181b5a",
   "metadata": {},
   "outputs": [
    {
     "ename": "NameError",
     "evalue": "name 'part_numbers' is not defined",
     "output_type": "error",
     "traceback": [
      "\u001b[1;31m---------------------------------------------------------------------------\u001b[0m",
      "\u001b[1;31mNameError\u001b[0m                                 Traceback (most recent call last)",
      "Cell \u001b[1;32mIn[11], line 1\u001b[0m\n\u001b[1;32m----> 1\u001b[0m \u001b[43mpart_numbers\u001b[49m\n",
      "\u001b[1;31mNameError\u001b[0m: name 'part_numbers' is not defined"
     ]
    }
   ],
   "source": [
    "part_numbers"
   ]
  },
  {
   "cell_type": "code",
   "execution_count": null,
   "id": "c603b43d-416c-4e6a-94d9-aa1a453212b7",
   "metadata": {},
   "outputs": [],
   "source": [
    "lines = []\n",
    "with open('C:/Users/jimb/Downloads/input3.txt') as f:\n",
    "    for line in f:\n",
    "        lines.append(line[:-1])"
   ]
  },
  {
   "cell_type": "code",
   "execution_count": 14,
   "id": "e4c50292-7674-4285-b9ca-1e5df8f47991",
   "metadata": {},
   "outputs": [
    {
     "ename": "IndexError",
     "evalue": "list index out of range",
     "output_type": "error",
     "traceback": [
      "\u001b[1;31m---------------------------------------------------------------------------\u001b[0m",
      "\u001b[1;31mIndexError\u001b[0m                                Traceback (most recent call last)",
      "Cell \u001b[1;32mIn[14], line 27\u001b[0m\n\u001b[0;32m     25\u001b[0m already_used\u001b[38;5;241m.\u001b[39madd(point)\n\u001b[0;32m     26\u001b[0m \u001b[38;5;66;03m# assemble the part number\u001b[39;00m\n\u001b[1;32m---> 27\u001b[0m \u001b[38;5;28;01mwhile\u001b[39;00m \u001b[43mthe_grid\u001b[49m\u001b[43m[\u001b[49m\u001b[43mpoint\u001b[49m\u001b[43m[\u001b[49m\u001b[38;5;241;43m0\u001b[39;49m\u001b[43m]\u001b[49m\u001b[43m]\u001b[49m\u001b[43m[\u001b[49m\u001b[43mpoint\u001b[49m\u001b[43m[\u001b[49m\u001b[38;5;241;43m1\u001b[39;49m\u001b[43m]\u001b[49m\u001b[43m]\u001b[49m\u001b[38;5;241m.\u001b[39misdigit():\n\u001b[0;32m     28\u001b[0m     digits \u001b[38;5;241m+\u001b[39m\u001b[38;5;241m=\u001b[39m the_grid[point[\u001b[38;5;241m0\u001b[39m]][point[\u001b[38;5;241m1\u001b[39m]]\n\u001b[0;32m     29\u001b[0m     already_used\u001b[38;5;241m.\u001b[39madd(point)\n",
      "\u001b[1;31mIndexError\u001b[0m: list index out of range"
     ]
    }
   ],
   "source": [
    "the_grid = []\n",
    "part_grid_points = set()\n",
    "for i, line in enumerate(test_lines):\n",
    "    row = []\n",
    "    for j, character in enumerate(line):\n",
    "        row.append(character)\n",
    "        if character != '.' and not character.isdigit():\n",
    "            part_grid_points.add((i,j))\n",
    "    the_grid.append(row)\n",
    "\n",
    "part_numbers = set()\n",
    "for i, j in part_grid_points:\n",
    "    already_used = set()\n",
    "    for new_i, new_j in [(i-1, j), (i-1, j-1), (i, j-1), (i+1, j-1), (i+1, j), (i+1, j+1), (i, j+1), (i-1, j+1)]:\n",
    "        if (new_i, new_j) in already_used:\n",
    "            continue\n",
    "        if the_grid[new_i][new_j].isdigit():\n",
    "            point= (new_i, new_j)\n",
    "            # find the start\n",
    "            while the_grid[point[0]][point[1]].isdigit() and point[1] >0:\n",
    "                point = (point[0], point[1]-1)\n",
    "\n",
    "            digits = ''\n",
    "            point = (point[0], point[1]+1) if point != (new_i, new_j) else point\n",
    "            already_used.add(point)\n",
    "            # assemble the part number\n",
    "            while the_grid[point[0]][point[1]].isdigit():\n",
    "                digits += the_grid[point[0]][point[1]]\n",
    "                already_used.add(point)\n",
    "                point = (point[0], point[1]+1)\n",
    "                \n",
    "\n",
    "            part_numbers.add(int(digits))\n",
    "                \n",
    "                \n",
    "        \n",
    "sum(part_numbers)"
   ]
  },
  {
   "cell_type": "markdown",
   "id": "8c9ceaf7-38d9-44eb-9f2d-4ae47ce72bb9",
   "metadata": {},
   "source": [
    "# Day 4"
   ]
  },
  {
   "cell_type": "code",
   "execution_count": 20,
   "id": "4a53fa3d-8ab5-4e43-9e7a-439da729012b",
   "metadata": {},
   "outputs": [],
   "source": [
    "test_data = \"\"\"\n",
    "Card 1: 41 48 83 86 17 | 83 86  6 31 17  9 48 53\n",
    "Card 2: 13 32 20 16 61 | 61 30 68 82 17 32 24 19\n",
    "Card 3:  1 21 53 59 44 | 69 82 63 72 16 21 14  1\n",
    "Card 4: 41 92 73 84 69 | 59 84 76 51 58  5 54 83\n",
    "Card 5: 87 83 26 28 32 | 88 30 70 12 93 22 82 36\n",
    "Card 6: 31 18 13 56 72 | 74 77 10 23 35 67 36 11\n",
    "\"\"\"\n",
    "\n",
    "test_lines = test_data.split('\\n')[1:-1]"
   ]
  },
  {
   "cell_type": "code",
   "execution_count": 26,
   "id": "b499347e-651f-43c9-bf04-a7a3b879ea9b",
   "metadata": {},
   "outputs": [],
   "source": [
    "lines = []\n",
    "with open('C:/Users/jimb/Downloads/input4.txt') as f:\n",
    "    for line in f:\n",
    "        lines.append(line[:-1])"
   ]
  },
  {
   "cell_type": "code",
   "execution_count": 27,
   "id": "5742cb38-3d0a-4dee-8187-2fe9035cab99",
   "metadata": {},
   "outputs": [
    {
     "data": {
      "text/plain": [
       "24175"
      ]
     },
     "execution_count": 27,
     "metadata": {},
     "output_type": "execute_result"
    }
   ],
   "source": [
    "total_score = 0\n",
    "for line in lines:\n",
    "    _, vals = line.split(':')\n",
    "    vals1, vals2 = vals.split('|')\n",
    "    vals1 = set(vals1.split())\n",
    "    vals2 = set(vals2.split())\n",
    "    intersection_size = len(vals1 & vals2)\n",
    "    if intersection_size > 0:\n",
    "        total_score += 2 ** (intersection_size - 1)\n",
    "total_score"
   ]
  },
  {
   "cell_type": "code",
   "execution_count": null,
   "id": "7d2bfbf7-0e73-410a-b48d-b1dc0bfcb45b",
   "metadata": {},
   "outputs": [],
   "source": []
  }
 ],
 "metadata": {
  "kernelspec": {
   "display_name": "Python 3 (ipykernel)",
   "language": "python",
   "name": "python3"
  },
  "language_info": {
   "codemirror_mode": {
    "name": "ipython",
    "version": 3
   },
   "file_extension": ".py",
   "mimetype": "text/x-python",
   "name": "python",
   "nbconvert_exporter": "python",
   "pygments_lexer": "ipython3",
   "version": "3.9.18"
  }
 },
 "nbformat": 4,
 "nbformat_minor": 5
}
