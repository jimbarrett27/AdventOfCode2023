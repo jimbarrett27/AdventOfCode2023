{
 "cells": [
  {
   "cell_type": "markdown",
   "id": "366e646d-17cf-45cb-8f33-0fefb2ad0052",
   "metadata": {},
   "source": [
    "# Day 1"
   ]
  },
  {
   "cell_type": "code",
   "execution_count": 1,
   "id": "dab96497-9bca-4b38-b161-4f782d905a5d",
   "metadata": {},
   "outputs": [],
   "source": [
    "test_data = \"\"\"\n",
    "two1nine\n",
    "eightwothree\n",
    "abcone2threexyz\n",
    "xtwone3four\n",
    "4nineeightseven2\n",
    "zoneight234\n",
    "7pqrstsixteen\n",
    "\"\"\"\n",
    "test_lines = test_data.split()"
   ]
  },
  {
   "cell_type": "code",
   "execution_count": 2,
   "id": "3ca6ce26-16ac-4b86-8e1b-071c81751943",
   "metadata": {},
   "outputs": [
    {
     "data": {
      "text/plain": [
       "['two1nine',\n",
       " 'eightwothree',\n",
       " 'abcone2threexyz',\n",
       " 'xtwone3four',\n",
       " '4nineeightseven2',\n",
       " 'zoneight234',\n",
       " '7pqrstsixteen']"
      ]
     },
     "execution_count": 2,
     "metadata": {},
     "output_type": "execute_result"
    }
   ],
   "source": [
    "test_lines"
   ]
  },
  {
   "cell_type": "code",
   "execution_count": 3,
   "id": "de415ce5-5e82-40a1-9f06-873e9173b317",
   "metadata": {},
   "outputs": [],
   "source": [
    "lines = []\n",
    "with open('./input1.txt') as f:\n",
    "    for line in f:\n",
    "        lines.append(line)"
   ]
  },
  {
   "cell_type": "code",
   "execution_count": 4,
   "id": "dc266788-6fc2-46c5-9902-754f52ff8dd4",
   "metadata": {},
   "outputs": [
    {
     "data": {
      "text/plain": [
       "55712"
      ]
     },
     "execution_count": 4,
     "metadata": {},
     "output_type": "execute_result"
    }
   ],
   "source": [
    "# part 1\n",
    "total = 0\n",
    "for line in lines:\n",
    "    line = line.replace('\\n', '')\n",
    "    numbers = line\n",
    "    for c in 'abcdefghijklmnopqrstuvwxyz':\n",
    "        numbers = numbers.replace(c, '').replace(c.upper(), '')\n",
    "    total += int(numbers[0] + numbers[-1])\n",
    "total"
   ]
  },
  {
   "cell_type": "code",
   "execution_count": 5,
   "id": "e20f831e-53fc-433b-a92a-97226e8958f9",
   "metadata": {},
   "outputs": [
    {
     "data": {
      "text/plain": [
       "55413"
      ]
     },
     "execution_count": 5,
     "metadata": {},
     "output_type": "execute_result"
    }
   ],
   "source": [
    "# part 2\n",
    "total = 0\n",
    "for line in lines:\n",
    "    line = line.replace('\\n', '').lower()\n",
    "    numbers = line\n",
    "    spelled_to_actual = {'one': 1, 'two': 2, 'three': 3, 'four': 4, 'five': 5, 'six': 6, 'seven': 7, 'eight': 8, 'nine': 9}\n",
    "\n",
    "    first_number = None\n",
    "    for i in range(len(numbers)):\n",
    "\n",
    "        if first_number is not None:\n",
    "            break\n",
    "\n",
    "        if numbers[i].isdigit():\n",
    "            first_number = numbers[i]\n",
    "            break\n",
    "        \n",
    "        for spelled, actual in spelled_to_actual.items():\n",
    "            if numbers[i:i+len(spelled)] == spelled:\n",
    "                first_number = str(actual)\n",
    "                break\n",
    "                \n",
    "                \n",
    "\n",
    "    last_number = None\n",
    "    for i in list(range(len(numbers)))[::-1]:\n",
    "        if last_number is not None:\n",
    "            break\n",
    "\n",
    "        if numbers[i].isdigit():\n",
    "            last_number = numbers[i]\n",
    "            break\n",
    "        \n",
    "        for spelled, actual in spelled_to_actual.items():\n",
    "            if numbers[i:i+len(spelled)] == spelled:\n",
    "                last_number = str(actual)\n",
    "                break\n",
    "\n",
    "    total += int(first_number + last_number)\n",
    "    \n",
    "total"
   ]
  },
  {
   "cell_type": "markdown",
   "id": "0ae8ce7a-2fa1-4e39-8b23-779f885239f1",
   "metadata": {},
   "source": [
    "# Day 2"
   ]
  },
  {
   "cell_type": "code",
   "execution_count": 6,
   "id": "bd3845dd-b5e6-45b0-a92a-922ac52ab8cf",
   "metadata": {},
   "outputs": [],
   "source": [
    "test_lines = \"\"\"\n",
    "Game 1: 3 blue, 4 red; 1 red, 2 green, 6 blue; 2 green\n",
    "Game 2: 1 blue, 2 green; 3 green, 4 blue, 1 red; 1 green, 1 blue\n",
    "Game 3: 8 green, 6 blue, 20 red; 5 blue, 4 red, 13 green; 5 green, 1 red\n",
    "Game 4: 1 green, 3 red, 6 blue; 3 green, 6 red; 3 green, 15 blue, 14 red\n",
    "Game 5: 6 red, 1 blue, 3 green; 2 blue, 1 red, 2 green\n",
    "\"\"\".split('\\n')[1:-1]"
   ]
  },
  {
   "cell_type": "code",
   "execution_count": 7,
   "id": "9d15320e-a2c0-4cb8-8e25-e965997c0488",
   "metadata": {},
   "outputs": [],
   "source": [
    "lines = []\n",
    "with open('./input2.txt') as f:\n",
    "    for line in f:\n",
    "        lines.append(line)"
   ]
  },
  {
   "cell_type": "code",
   "execution_count": 8,
   "id": "d5b65d37-c729-4654-9c43-dca98ad5020b",
   "metadata": {},
   "outputs": [
    {
     "data": {
      "text/plain": [
       "2879"
      ]
     },
     "execution_count": 8,
     "metadata": {},
     "output_type": "execute_result"
    }
   ],
   "source": [
    "max_counts = {'red': 12, 'green': 13, 'blue': 14}\n",
    "\n",
    "total = 0\n",
    "for line in lines:\n",
    "    game_and_id, games = line.split(':')\n",
    "    game_id = game_and_id.split()[-1]\n",
    "    legal_game = True\n",
    "    for game in games.split(';'):\n",
    "        for count_colour in game.split(','):\n",
    "            count, colour = count_colour.split()\n",
    "            if int(count) > max_counts[colour]:\n",
    "                legal_game = False\n",
    "\n",
    "    if legal_game:\n",
    "        total += int(game_id)\n",
    "total"
   ]
  },
  {
   "cell_type": "code",
   "execution_count": 9,
   "id": "760954bd-850f-410f-bc6c-2999d1620cfb",
   "metadata": {},
   "outputs": [
    {
     "data": {
      "text/plain": [
       "65122"
      ]
     },
     "execution_count": 9,
     "metadata": {},
     "output_type": "execute_result"
    }
   ],
   "source": [
    "total_power = 0\n",
    "for line in lines:\n",
    "    game_and_id, games = line.split(':')\n",
    "    game_id = game_and_id.split()[-1]\n",
    "\n",
    "    min_counts = {'red': 0, 'blue': 0, 'green':0}\n",
    "    for game in games.split(';'):\n",
    "        for count_colour in game.split(','):\n",
    "            count, colour = count_colour.split()\n",
    "            if int(count) > min_counts[colour]:\n",
    "                min_counts[colour] = int(count)\n",
    "    total_power += min_counts['red'] * min_counts['green'] * min_counts['blue']\n",
    "total_power"
   ]
  },
  {
   "cell_type": "markdown",
   "id": "6dee5897-f81a-4f04-9868-559ee4d13897",
   "metadata": {},
   "source": [
    "# Day 3"
   ]
  },
  {
   "cell_type": "code",
   "execution_count": 10,
   "id": "30b27782-12a3-4cae-a192-72e9ed7ccc31",
   "metadata": {},
   "outputs": [],
   "source": [
    "test_data = \"\"\"\n",
    "467..114..\n",
    "...*......\n",
    "..35..633.\n",
    "......#...\n",
    "617*......\n",
    ".....+.58.\n",
    "..592.....\n",
    "......755.\n",
    "...$.*....\n",
    ".664.598..\n",
    "\"\"\"\n",
    "\n",
    "test_lines = test_data.split()"
   ]
  },
  {
   "cell_type": "code",
   "execution_count": 11,
   "id": "c603b43d-416c-4e6a-94d9-aa1a453212b7",
   "metadata": {},
   "outputs": [],
   "source": [
    "lines = []\n",
    "with open('./input3.txt') as f:\n",
    "    for line in f:\n",
    "        lines.append(line[:-1])\n",
    "\n",
    "# lines = test_lines"
   ]
  },
  {
   "cell_type": "code",
   "execution_count": 12,
   "id": "e4c50292-7674-4285-b9ca-1e5df8f47991",
   "metadata": {},
   "outputs": [
    {
     "data": {
      "text/plain": [
       "540025"
      ]
     },
     "execution_count": 12,
     "metadata": {},
     "output_type": "execute_result"
    }
   ],
   "source": [
    "grid_point_to_number = {}\n",
    "grid_point_to_id = {}\n",
    "part_positions = set()\n",
    "id_numb = 0\n",
    "for i,line in enumerate(lines):\n",
    "    digits = ''\n",
    "    for j, character in enumerate(line):\n",
    "        if character.isdigit():\n",
    "            digits += character\n",
    "        else:\n",
    "            if len(digits) > 0:\n",
    "                for k in range(len(digits)):\n",
    "                    grid_point_to_number[(i,j-k-1)] = int(digits)\n",
    "                    grid_point_to_id[(i, j-k-1)] = id_numb\n",
    "                digits = ''\n",
    "                id_numb += 1\n",
    "            if character != '.':\n",
    "                part_positions.add((i,j))\n",
    "    if len(digits) > 0:\n",
    "        for k in range(len(digits)):\n",
    "            grid_point_to_number[(i,j-k)] = int(digits)\n",
    "            grid_point_to_id[(i, j-k)] = id_numb\n",
    "        digits = ''\n",
    "        id_numb += 1\n",
    "\n",
    "part_numbs = []\n",
    "for i, j in part_positions:\n",
    "    used_ids = set()\n",
    "    for new_pos in [(i, j-1), (i+1,j-1), (i+1, j), (i+1, j+1), (i, j+1), (i-1, j+1), (i-1, j), (i-1, j-1)]:\n",
    "        if new_pos in grid_point_to_number and grid_point_to_id[new_pos] not in used_ids:\n",
    "            part_numbs.append(grid_point_to_number[new_pos])\n",
    "            used_ids.add(grid_point_to_id[new_pos])\n",
    "\n",
    "sum(part_numbs)"
   ]
  },
  {
   "cell_type": "code",
   "execution_count": 13,
   "id": "88f55940-6a96-4388-99fb-c766393f0990",
   "metadata": {},
   "outputs": [
    {
     "data": {
      "text/plain": [
       "84584891"
      ]
     },
     "execution_count": 13,
     "metadata": {},
     "output_type": "execute_result"
    }
   ],
   "source": [
    "gear_ratios = []\n",
    "for i, j in part_positions:\n",
    "    if lines[i][j] != '*':\n",
    "        continue\n",
    "    \n",
    "    used_ids = set()\n",
    "    part_numbs = []\n",
    "    for new_pos in [(i, j-1), (i+1,j-1), (i+1, j), (i+1, j+1), (i, j+1), (i-1, j+1), (i-1, j), (i-1, j-1)]:\n",
    "        if new_pos in grid_point_to_number and grid_point_to_id[new_pos] not in used_ids:\n",
    "            part_numbs.append(grid_point_to_number[new_pos])\n",
    "            used_ids.add(grid_point_to_id[new_pos])\n",
    "\n",
    "    if len(used_ids) != 2:\n",
    "        continue\n",
    "\n",
    "    gear_ratios.append(part_numbs[0] * part_numbs[1])\n",
    "\n",
    "sum(gear_ratios)"
   ]
  },
  {
   "cell_type": "markdown",
   "id": "8c9ceaf7-38d9-44eb-9f2d-4ae47ce72bb9",
   "metadata": {},
   "source": [
    "# Day 4"
   ]
  },
  {
   "cell_type": "code",
   "execution_count": 14,
   "id": "4a53fa3d-8ab5-4e43-9e7a-439da729012b",
   "metadata": {},
   "outputs": [],
   "source": [
    "test_data = \"\"\"\n",
    "Card 1: 41 48 83 86 17 | 83 86  6 31 17  9 48 53\n",
    "Card 2: 13 32 20 16 61 | 61 30 68 82 17 32 24 19\n",
    "Card 3:  1 21 53 59 44 | 69 82 63 72 16 21 14  1\n",
    "Card 4: 41 92 73 84 69 | 59 84 76 51 58  5 54 83\n",
    "Card 5: 87 83 26 28 32 | 88 30 70 12 93 22 82 36\n",
    "Card 6: 31 18 13 56 72 | 74 77 10 23 35 67 36 11\n",
    "\"\"\"\n",
    "\n",
    "test_lines = test_data.split('\\n')[1:-1]"
   ]
  },
  {
   "cell_type": "code",
   "execution_count": 15,
   "id": "b499347e-651f-43c9-bf04-a7a3b879ea9b",
   "metadata": {},
   "outputs": [],
   "source": [
    "lines = []\n",
    "with open('./input4.txt') as f:\n",
    "    for line in f:\n",
    "        lines.append(line[:-1])"
   ]
  },
  {
   "cell_type": "code",
   "execution_count": 16,
   "id": "5742cb38-3d0a-4dee-8187-2fe9035cab99",
   "metadata": {},
   "outputs": [
    {
     "data": {
      "text/plain": [
       "24175"
      ]
     },
     "execution_count": 16,
     "metadata": {},
     "output_type": "execute_result"
    }
   ],
   "source": [
    "total_score = 0\n",
    "for line in lines:\n",
    "    _, vals = line.split(':')\n",
    "    vals1, vals2 = vals.split('|')\n",
    "    vals1 = set(vals1.split())\n",
    "    vals2 = set(vals2.split())\n",
    "    intersection_size = len(vals1 & vals2)\n",
    "    if intersection_size > 0:\n",
    "        total_score += 2 ** (intersection_size - 1)\n",
    "total_score"
   ]
  },
  {
   "cell_type": "code",
   "execution_count": 17,
   "id": "7d2bfbf7-0e73-410a-b48d-b1dc0bfcb45b",
   "metadata": {},
   "outputs": [
    {
     "data": {
      "text/plain": [
       "18846301"
      ]
     },
     "execution_count": 17,
     "metadata": {},
     "output_type": "execute_result"
    }
   ],
   "source": [
    "cached_results = {}\n",
    "\n",
    "def evaluate_card(card_ind, lines_to_use):\n",
    "\n",
    "    if card_ind in cached_results:\n",
    "        return cached_results[card_ind]\n",
    "\n",
    "    total = 1\n",
    "    \n",
    "    card = lines_to_use[card_ind]\n",
    "    _, vals = card.split(':')\n",
    "    vals1, vals2 = vals.split('|')\n",
    "    vals1 = set(vals1.split())\n",
    "    vals2 = set(vals2.split())\n",
    "    intersection_size = len(vals1 & vals2)\n",
    "\n",
    "    for i in range(intersection_size):\n",
    "        total += evaluate_card(card_ind + i + 1, lines_to_use) \n",
    "\n",
    "    cached_results[card_ind] = total\n",
    "    \n",
    "    return total\n",
    "\n",
    "sum(evaluate_card(i, lines) for i, _ in enumerate(lines))"
   ]
  },
  {
   "cell_type": "markdown",
   "id": "c72e49f2-3467-49e8-afe4-bace5b978707",
   "metadata": {},
   "source": [
    "# Day 5"
   ]
  },
  {
   "cell_type": "code",
   "execution_count": 18,
   "id": "c0bf9840-b47d-4980-82c7-61f246de9e96",
   "metadata": {},
   "outputs": [],
   "source": [
    "test_data = \"\"\"\n",
    "seeds: 79 14 55 13\n",
    "\n",
    "seed-to-soil map:\n",
    "50 98 2\n",
    "52 50 48\n",
    "\n",
    "soil-to-fertilizer map:\n",
    "0 15 37\n",
    "37 52 2\n",
    "39 0 15\n",
    "\n",
    "fertilizer-to-water map:\n",
    "49 53 8\n",
    "0 11 42\n",
    "42 0 7\n",
    "57 7 4\n",
    "\n",
    "water-to-light map:\n",
    "88 18 7\n",
    "18 25 70\n",
    "\n",
    "light-to-temperature map:\n",
    "45 77 23\n",
    "81 45 19\n",
    "68 64 13\n",
    "\n",
    "temperature-to-humidity map:\n",
    "0 69 1\n",
    "1 0 69\n",
    "\n",
    "humidity-to-location map:\n",
    "60 56 37\n",
    "56 93 4\n",
    "\"\"\"\n",
    "\n",
    "test_lines = test_data.split('\\n')"
   ]
  },
  {
   "cell_type": "code",
   "execution_count": 19,
   "id": "59ba6811-fcdc-42b7-a0a3-b09d84a8fdc8",
   "metadata": {},
   "outputs": [],
   "source": [
    "lines = []\n",
    "with open('./input5.txt') as f:\n",
    "    for line in f:\n",
    "        lines.append(line[:-1])\n",
    "lines.append('')"
   ]
  },
  {
   "cell_type": "code",
   "execution_count": 20,
   "id": "de14ef9a-3eff-4aee-9f4a-73375dfcb670",
   "metadata": {},
   "outputs": [
    {
     "data": {
      "text/plain": [
       "278755257"
      ]
     },
     "execution_count": 20,
     "metadata": {},
     "output_type": "execute_result"
    }
   ],
   "source": [
    "eval_map = False\n",
    "source_numbers = []\n",
    "dest_numbers = []\n",
    "for line in lines:\n",
    "    if 'seeds:' in line: \n",
    "        source_numbers = list(map(int,line.split(':')[1].split()))\n",
    "        continue\n",
    "    if 'map:' in line:\n",
    "        eval_map = True\n",
    "        dest_numbers = []\n",
    "        continue\n",
    "    if eval_map and line != '':\n",
    "        dest, source, rang = list(map(int,line.split()))\n",
    "        for i in range(len(source_numbers)-1, -1,-1):\n",
    "            number = source_numbers[i]\n",
    "            if number in range(source, source + rang):\n",
    "                dest_numbers.append(dest + (number - source))\n",
    "                source_numbers = source_numbers[:i] + source_numbers[i+1:]\n",
    "\n",
    "    if eval_map and line == '':\n",
    "        dest_numbers += source_numbers\n",
    "        source_numbers = dest_numbers\n",
    "        eval_map = False\n",
    "\n",
    "min(dest_numbers)"
   ]
  },
  {
   "cell_type": "code",
   "execution_count": 21,
   "id": "0a6c67a2-a2ec-4c77-b0f0-4713872e6686",
   "metadata": {},
   "outputs": [
    {
     "data": {
      "text/plain": [
       "26829166"
      ]
     },
     "execution_count": 21,
     "metadata": {},
     "output_type": "execute_result"
    }
   ],
   "source": [
    "def get_span_overlap(span1, span2):\n",
    "\n",
    "    overlap = (max(span1[0], span2[0]), min(span1[1], span2[1]))\n",
    "    return overlap if overlap[0] < overlap[1] else None\n",
    "    \n",
    "\n",
    "for line in lines:\n",
    "    if 'seeds:' in line:\n",
    "        seed_numbers = list(map(int,line.split(':')[1].split()))\n",
    "        seed_starts = seed_numbers[::2]\n",
    "        seed_spans = seed_numbers[1::2]\n",
    "        source_ranges = []\n",
    "        for start, span in zip(seed_starts, seed_spans):\n",
    "            source_ranges.append((start, start+span))\n",
    "        continue\n",
    "    if 'map:' in line:\n",
    "        eval_map = True\n",
    "        dest_ranges = []\n",
    "        continue\n",
    "    \n",
    "    if eval_map and line != '':\n",
    "        dest, source, rang = list(map(int,line.split()))\n",
    "\n",
    "        input_range = (source, source + rang)\n",
    "        new_source_ranges = []\n",
    "        for source_range in source_ranges:\n",
    "            overlap = get_span_overlap(input_range, source_range)\n",
    "            if overlap is None:\n",
    "                new_source_ranges.append(source_range)\n",
    "                continue\n",
    "            destination_offset = dest - source\n",
    "            dest_ranges.append((overlap[0] + destination_offset, overlap[1] + destination_offset))\n",
    "\n",
    "            if min(source_range) < min(overlap):\n",
    "                new_source_ranges.append((min(source_range), min(overlap)))\n",
    "\n",
    "            if max(source_range) > max(overlap):\n",
    "                new_source_ranges.append((max(overlap), max(source_range)))\n",
    "\n",
    "        source_ranges = new_source_ranges\n",
    "        \n",
    "    if eval_map and line == '':\n",
    "        dest_ranges += source_ranges\n",
    "        source_ranges = dest_ranges\n",
    "        eval_map = False\n",
    "\n",
    "min(r[0] for r in dest_ranges)"
   ]
  },
  {
   "cell_type": "markdown",
   "id": "123d62f9-ec0c-4f56-bab9-fb2beda024d1",
   "metadata": {},
   "source": [
    "# Day 6"
   ]
  },
  {
   "cell_type": "code",
   "execution_count": 22,
   "id": "6eefcbb8-bda4-4e11-9701-3a0efe33edd5",
   "metadata": {},
   "outputs": [],
   "source": [
    "test_input = \"\"\"\n",
    "Time:      7  15   30\n",
    "Distance:  9  40  200\n",
    "\"\"\"\n",
    "\n",
    "test_lines = test_input.split('\\n')[1:-1]"
   ]
  },
  {
   "cell_type": "code",
   "execution_count": 23,
   "id": "86ef970a-2a6a-4b04-80ef-2427c58b6864",
   "metadata": {},
   "outputs": [],
   "source": [
    "lines = []\n",
    "with open('./input6.txt') as f:\n",
    "    for line in f:\n",
    "        lines.append(line[:-1])\n",
    "\n",
    "# lines = test_lines"
   ]
  },
  {
   "cell_type": "code",
   "execution_count": 24,
   "id": "e5db33d9-25bc-4252-a3a3-c27c833aff68",
   "metadata": {},
   "outputs": [
    {
     "data": {
      "text/plain": [
       "500346"
      ]
     },
     "execution_count": 24,
     "metadata": {},
     "output_type": "execute_result"
    }
   ],
   "source": [
    "times = list(map(int,lines[0].split(':')[1].split()))\n",
    "distance_records = list(map(int,lines[1].split(':')[1].split()))\n",
    "\n",
    "result = 1\n",
    "for time, record in zip(times, distance_records):\n",
    "    winning_strategies = 0\n",
    "    for held_time in range(time):\n",
    "        distance_travelled = held_time * (time - held_time)\n",
    "        if distance_travelled > record:\n",
    "            winning_strategies += 1\n",
    "\n",
    "    result *= winning_strategies\n",
    "result"
   ]
  },
  {
   "cell_type": "code",
   "execution_count": 25,
   "id": "25e60bba-f81e-4a48-9a72-83ee931e0e6f",
   "metadata": {},
   "outputs": [
    {
     "data": {
      "text/plain": [
       "42515755"
      ]
     },
     "execution_count": 25,
     "metadata": {},
     "output_type": "execute_result"
    }
   ],
   "source": [
    "time = int(''.join(lines[0].split(':')[1].split()))\n",
    "distance_record = int(''.join(lines[1].split(':')[1].split()))\n",
    "\n",
    "root1 = (time / 2) + (((time*time) - (4*distance_record))**0.5)/2\n",
    "root2 = (time / 2) - (((time*time) - (4*distance_record))**0.5)/2\n",
    "\n",
    "int(root1) - int(root2)"
   ]
  },
  {
   "cell_type": "markdown",
   "id": "6996bffb-78c9-497a-bf98-e904d87ec314",
   "metadata": {},
   "source": [
    "# Day 7"
   ]
  },
  {
   "cell_type": "code",
   "execution_count": 26,
   "id": "be9d4fb3-0d72-44eb-a299-39c12ca8ba69",
   "metadata": {},
   "outputs": [],
   "source": [
    "test_data = \"\"\"\n",
    "32T3K 765\n",
    "T55J5 684\n",
    "KK677 28\n",
    "KTJJT 220\n",
    "QQQJA 483\n",
    "\"\"\"\n",
    "\n",
    "test_lines = test_data.split('\\n')[1:-1]\n"
   ]
  },
  {
   "cell_type": "code",
   "execution_count": 27,
   "id": "69c340c1-a688-4ddf-a85c-52acc32ce0de",
   "metadata": {},
   "outputs": [],
   "source": [
    "lines = []\n",
    "with open('./input7.txt') as f:\n",
    "    for line in f:\n",
    "        lines.append(line[:-1])\n",
    "\n",
    "# lines = test_lines"
   ]
  },
  {
   "cell_type": "code",
   "execution_count": 28,
   "id": "acdede32-6037-44aa-88a1-1d1695c4ac16",
   "metadata": {},
   "outputs": [
    {
     "data": {
      "text/plain": [
       "253205868"
      ]
     },
     "execution_count": 28,
     "metadata": {},
     "output_type": "execute_result"
    }
   ],
   "source": [
    "def rank_line(line):\n",
    "\n",
    "    cards, _ = line.split()\n",
    "\n",
    "    card_counts = {}\n",
    "    for card in cards:\n",
    "        if card not in card_counts:\n",
    "            card_counts[card] = 0\n",
    "        card_counts[card] += 1\n",
    "\n",
    "    # five of a kind\n",
    "    if len(card_counts) == 1:\n",
    "        ranking_char = '7'\n",
    "\n",
    "    # four of a kind\n",
    "    elif 4 in card_counts.values():\n",
    "        ranking_char = '6'\n",
    "\n",
    "    # full house\n",
    "    elif (3 in card_counts.values()) and (2 in card_counts.values()):\n",
    "        ranking_char = '5'\n",
    "\n",
    "    # three of a kind\n",
    "    elif 3 in card_counts.values():\n",
    "        ranking_char = '4'\n",
    "\n",
    "    elif sum(count == 2 for count in card_counts.values()) == 2:\n",
    "        ranking_char = '3'\n",
    "\n",
    "    elif 2 in card_counts.values():\n",
    "        ranking_char = '2'\n",
    "\n",
    "    else:\n",
    "        ranking_char = '1'\n",
    "\n",
    "    ranking_str = (ranking_char + cards).replace('A', 'E').replace('K', 'D').replace('Q', 'C').replace('J', 'B').replace('T', 'A')\n",
    "\n",
    "    return ranking_str\n",
    "\n",
    "sorted_lines = sorted(lines, key=rank_line)\n",
    "winnings = 0\n",
    "for rank, line in enumerate(sorted_lines):\n",
    "    _, bid = line.split()\n",
    "    winnings += int(bid) * (rank+1)\n",
    "winnings"
   ]
  },
  {
   "cell_type": "code",
   "execution_count": 29,
   "id": "0b818394-4935-46a4-b312-805502a6c621",
   "metadata": {},
   "outputs": [
    {
     "data": {
      "text/plain": [
       "253907829"
      ]
     },
     "execution_count": 29,
     "metadata": {},
     "output_type": "execute_result"
    }
   ],
   "source": [
    "def rank_line_with_joker(line):\n",
    "\n",
    "    cards, _ = line.split()\n",
    "\n",
    "    card_counts = {}\n",
    "    joker_count = 0\n",
    "    for card in cards:\n",
    "\n",
    "        if card == 'J':\n",
    "            joker_count += 1\n",
    "            continue\n",
    "        if card not in card_counts:\n",
    "            card_counts[card] = 0\n",
    "        card_counts[card] += 1\n",
    "\n",
    "\n",
    "    original_card_counts = dict(card_counts)\n",
    "    if len(card_counts) == 0:\n",
    "        card_counts['joker'] = joker_count\n",
    "    else:\n",
    "        for card in card_counts.keys():\n",
    "            card_counts[card] += joker_count\n",
    "    \n",
    "    # five of a kind\n",
    "    if any(count >= 5 for count in card_counts.values()):\n",
    "        ranking_char = '7'\n",
    "\n",
    "    # four of a kind\n",
    "    elif 4 in card_counts.values():\n",
    "        ranking_char = '6'\n",
    "        \n",
    "\n",
    "    # full house\n",
    "    elif (3 in card_counts.values() and sum(count >= 2 for count in original_card_counts.values()) >= 2\n",
    "          and (\n",
    "              3 in original_card_counts.values()\n",
    "              or sum(count == 2 for count in original_card_counts.values()) == 2\n",
    "    )):\n",
    "        ranking_char = '5'\n",
    "\n",
    "    # three of a kind\n",
    "    elif 3 in card_counts.values():\n",
    "        ranking_char = '4'\n",
    "\n",
    "    elif sum(count == 2 for count in card_counts.values()) == 2  and 2 in original_card_counts.values():\n",
    "        ranking_char = '3'\n",
    "\n",
    "    elif 2 in card_counts.values():\n",
    "        ranking_char = '2'\n",
    "\n",
    "    else:\n",
    "        ranking_char = '1'\n",
    "    \n",
    "    ranking_str = (ranking_char + cards).replace('A', 'E').replace('K', 'D').replace('Q', 'C').replace('J', '0').replace('T', 'A')\n",
    "    \n",
    "    return ranking_str\n",
    "\n",
    "# rank_line_with_joker('1123J x')\n",
    "    \n",
    "sorted_lines = sorted(lines, key=rank_line_with_joker)\n",
    "winnings = 0\n",
    "for rank, line in enumerate(sorted_lines):\n",
    "    _, bid = line.split()\n",
    "    winnings += int(bid) * (rank+1)\n",
    "winnings"
   ]
  },
  {
   "cell_type": "markdown",
   "id": "497165b0-23f2-4c66-ba05-679acd411b17",
   "metadata": {},
   "source": [
    "# Day 8"
   ]
  },
  {
   "cell_type": "code",
   "execution_count": 30,
   "id": "41cafc1d-b3b8-4ac5-a89b-ffae6e92d42c",
   "metadata": {},
   "outputs": [],
   "source": [
    "test_input_1 = \"\"\"\n",
    "RL\n",
    "\n",
    "AAA = (BBB, CCC)\n",
    "BBB = (DDD, EEE)\n",
    "CCC = (ZZZ, GGG)\n",
    "DDD = (DDD, DDD)\n",
    "EEE = (EEE, EEE)\n",
    "GGG = (GGG, GGG)\n",
    "ZZZ = (ZZZ, ZZZ)\n",
    "\"\"\"\n",
    "\n",
    "test_lines_1 = test_input_1.split('\\n')[1:-1]\n",
    "\n",
    "test_input_2 = \"\"\"\n",
    "LLR\n",
    "\n",
    "AAA = (BBB, BBB)\n",
    "BBB = (AAA, ZZZ)\n",
    "ZZZ = (ZZZ, ZZZ)\n",
    "\"\"\"\n",
    "\n",
    "test_lines_2 = test_input_2.split('\\n')[1:-1]\n",
    "\n",
    "test_input_3 = \"\"\"\n",
    "LR\n",
    "\n",
    "11A = (11B, XXX)\n",
    "11B = (XXX, 11Z)\n",
    "11Z = (11B, XXX)\n",
    "22A = (22B, XXX)\n",
    "22B = (22C, 22C)\n",
    "22C = (22Z, 22Z)\n",
    "22Z = (22B, 22B)\n",
    "XXX = (XXX, XXX)\n",
    "\"\"\"\n",
    "\n",
    "test_lines_3 = test_input_3.split('\\n')[1:-1]"
   ]
  },
  {
   "cell_type": "code",
   "execution_count": 31,
   "id": "7dbb2f0b-e423-4b4d-90a9-92d7072261e7",
   "metadata": {},
   "outputs": [],
   "source": [
    "lines = []\n",
    "with open('./input8.txt') as f:\n",
    "    for line in f:\n",
    "        lines.append(line[:-1])\n",
    "\n",
    "# lines = test_lines_3"
   ]
  },
  {
   "cell_type": "code",
   "execution_count": 32,
   "id": "ace707fc-5887-478c-84ba-6eaea93118b9",
   "metadata": {},
   "outputs": [],
   "source": [
    "instructions = lines[0]\n",
    "the_map = {}\n",
    "for line in lines[2:]:\n",
    "    start, options = line.split('=')\n",
    "    start = start.strip()\n",
    "    left, right = options.replace('(','').replace(')', '').replace(' ', '').split(',')\n",
    "    the_map[start] = (left, right)"
   ]
  },
  {
   "cell_type": "code",
   "execution_count": 33,
   "id": "d8b18f50-96e8-4ed9-9efc-1ea508c96226",
   "metadata": {},
   "outputs": [
    {
     "data": {
      "text/plain": [
       "24253"
      ]
     },
     "execution_count": 33,
     "metadata": {},
     "output_type": "execute_result"
    }
   ],
   "source": [
    "current_position = 'AAA'\n",
    "n_steps = 0\n",
    "while current_position != 'ZZZ':\n",
    "    instruction = instructions[n_steps % len(instructions)]\n",
    "    if instruction == 'L':\n",
    "        current_position = the_map[current_position][0]\n",
    "    else:\n",
    "        current_position = the_map[current_position][1]\n",
    "\n",
    "    n_steps += 1\n",
    "n_steps"
   ]
  },
  {
   "cell_type": "code",
   "execution_count": 34,
   "id": "45fbcb72-a5c3-4d46-972b-4b432b4a3252",
   "metadata": {},
   "outputs": [
    {
     "data": {
      "text/plain": [
       "12357789728873"
      ]
     },
     "execution_count": 34,
     "metadata": {},
     "output_type": "execute_result"
    }
   ],
   "source": [
    "result = 1\n",
    "periods = []\n",
    "for current_position in the_map.keys():\n",
    "    if not current_position.endswith('A'):\n",
    "        continue\n",
    "    n_steps = 0\n",
    "    z_poss = []\n",
    "    while True:\n",
    "        instruction = instructions[n_steps % len(instructions)]\n",
    "        if instruction == 'L':\n",
    "            current_position = the_map[current_position][0]\n",
    "        else:\n",
    "            current_position = the_map[current_position][1]\n",
    "        n_steps += 1\n",
    "\n",
    "        if current_position.endswith('Z'):\n",
    "            period = n_steps\n",
    "            periods.append(period)\n",
    "            break\n",
    "\n",
    "\n",
    "    for i in range(period):\n",
    "        instruction = instructions[(period+i) % len(instructions)]\n",
    "        if instruction == 'L':\n",
    "            current_position = the_map[current_position][0]\n",
    "        else:\n",
    "            current_position = the_map[current_position][1]\n",
    "\n",
    "current_increment = periods[0]\n",
    "for period in periods[1:]:\n",
    "    current_val = current_increment\n",
    "    while (current_val % period) != 0:\n",
    "        current_val += current_increment\n",
    "\n",
    "    current_increment = current_val\n",
    "\n",
    "current_val"
   ]
  },
  {
   "cell_type": "markdown",
   "id": "8990517d-62dc-46c7-9f9d-182e3cdd9705",
   "metadata": {},
   "source": [
    "# Day 9"
   ]
  },
  {
   "cell_type": "code",
   "execution_count": 35,
   "id": "35af19c7-5db0-4532-8a19-44aa92dfb635",
   "metadata": {},
   "outputs": [],
   "source": [
    "test_input = \"\"\"\n",
    "0 3 6 9 12 15\n",
    "1 3 6 10 15 21\n",
    "10 13 16 21 30 45\n",
    "\"\"\"\n",
    "\n",
    "test_lines = test_input.split('\\n')[1:-1]"
   ]
  },
  {
   "cell_type": "code",
   "execution_count": 36,
   "id": "4452202c-0459-450f-8f85-ad79e1b089b7",
   "metadata": {},
   "outputs": [],
   "source": [
    "lines = []\n",
    "with open('./input9.txt') as f:\n",
    "    for line in f:\n",
    "        lines.append(line[:-1])\n",
    "\n",
    "# lines = test_lines"
   ]
  },
  {
   "cell_type": "code",
   "execution_count": 37,
   "id": "fdb79482-1d9d-4114-8d8b-f903c8fcfe9d",
   "metadata": {},
   "outputs": [
    {
     "data": {
      "text/plain": [
       "1930746032"
      ]
     },
     "execution_count": 37,
     "metadata": {},
     "output_type": "execute_result"
    }
   ],
   "source": [
    "result = 0\n",
    "for line in lines:\n",
    "    sequence = list(map(int, line.split()))\n",
    "\n",
    "    diff_sequences = [sequence]\n",
    "    while any(map(bool,diff_sequences[-1])):\n",
    "        diff_sequence = [v2-v1 for v1,v2 in zip(diff_sequences[-1][:-1], diff_sequences[-1][1:])]\n",
    "        diff_sequences.append(diff_sequence)\n",
    "    \n",
    "    new_val = sum(diff_sequence[-1] for diff_sequence in diff_sequences)\n",
    "    result += new_val\n",
    "result"
   ]
  },
  {
   "cell_type": "code",
   "execution_count": 38,
   "id": "5bbf9893-34ca-4dc9-8e46-73b839add037",
   "metadata": {},
   "outputs": [
    {
     "data": {
      "text/plain": [
       "1154"
      ]
     },
     "execution_count": 38,
     "metadata": {},
     "output_type": "execute_result"
    }
   ],
   "source": [
    "result = 0\n",
    "for line in lines:\n",
    "    sequence = list(map(int, line.split()))\n",
    "\n",
    "    diff_sequences = [sequence]\n",
    "    while any(map(bool,diff_sequences[-1])):\n",
    "        diff_sequence = [v2-v1 for v1,v2 in zip(diff_sequences[-1][:-1], diff_sequences[-1][1:])]\n",
    "        diff_sequences.append(diff_sequence)\n",
    "\n",
    "    new_val = 0\n",
    "    for diff_sequence in diff_sequences[::-1]:\n",
    "        new_val = diff_sequence[0] - new_val\n",
    "\n",
    "    result += new_val\n",
    "result"
   ]
  },
  {
   "cell_type": "markdown",
   "id": "cc74f8b0-0321-442b-b92d-dd5180f8c563",
   "metadata": {},
   "source": [
    "# Day 10"
   ]
  },
  {
   "cell_type": "code",
   "execution_count": 164,
   "id": "4fb972d8-4500-41dd-b27c-d5c43a22e1fb",
   "metadata": {},
   "outputs": [],
   "source": [
    "test_data_1 = \"\"\"\n",
    ".....\n",
    ".S-7.\n",
    ".|.|.\n",
    ".L-J.\n",
    ".....\n",
    "\"\"\"\n",
    "\n",
    "test_lines_1 = test_data_1.split('\\n')[1:-1]\n",
    "\n",
    "test_data_2 = \"\"\"\n",
    "..F7.\n",
    ".FJ|.\n",
    "SJ.L7\n",
    "|F--J\n",
    "LJ...\n",
    "\"\"\"\n",
    "\n",
    "test_lines_2 = test_data_2.split('\\n')[1:-1]\n",
    "\n",
    "test_data_3 = \"\"\"\n",
    "...........\n",
    ".S-------7.\n",
    ".|F-----7|.\n",
    ".||.....||.\n",
    ".||.....||.\n",
    ".|L-7.F-J|.\n",
    ".|..|.|..|.\n",
    ".L--J.L--J.\n",
    "...........\n",
    "\"\"\"\n",
    "\n",
    "test_lines_3 = test_data_3.split('\\n')[1:-1]\n",
    "\n",
    "test_data_4 = \"\"\"\n",
    "..........\n",
    ".S------7.\n",
    ".|F----7|.\n",
    ".||OOOO||.\n",
    ".||OOOO||.\n",
    ".|L-7F-J|.\n",
    ".|II||II|.\n",
    ".L--JL--J.\n",
    "..........\n",
    "\"\"\"\n",
    "\n",
    "test_lines_4 = test_data_4.split('\\n')[1:-1]\n",
    "\n",
    "test_data_5 = \"\"\"\n",
    ".F----7F7F7F7F-7....\n",
    ".|F--7||||||||FJ....\n",
    ".||.FJ||||||||L7....\n",
    "FJL7L7LJLJ||LJ.L-7..\n",
    "L--J.L7...LJS7F-7L7.\n",
    "....F-J..F7FJ|L7L7L7\n",
    "....L7.F7||L7|.L7L7|\n",
    ".....|FJLJ|FJ|F7|.LJ\n",
    "....FJL-7.||.||||...\n",
    "....L---J.LJ.LJLJ...\n",
    "\"\"\"\n",
    "\n",
    "test_lines_5 = test_data_5.split('\\n')[1:-1]\n",
    "\n",
    "test_data_6 = \"\"\"\n",
    "FF7FSF7F7F7F7F7F---7\n",
    "L|LJ||||||||||||F--J\n",
    "FL-7LJLJ||||||LJL-77\n",
    "F--JF--7||LJLJ7F7FJ-\n",
    "L---JF-JLJ.||-FJLJJ7\n",
    "|F|F-JF---7F7-L7L|7|\n",
    "|FFJF7L7F-JF7|JL---7\n",
    "7-L-JL7||F7|L7F-7F7|\n",
    "L.L7LFJ|||||FJL7||LJ\n",
    "L7JLJL-JLJLJL--JLJ.L\n",
    "\"\"\"\n",
    "\n",
    "test_lines_6 = test_data_6.split('\\n')[1:-1]"
   ]
  },
  {
   "cell_type": "code",
   "execution_count": 171,
   "id": "41e79159-d7a8-4085-b3a0-26a44fe1f93d",
   "metadata": {},
   "outputs": [],
   "source": [
    "lines = []\n",
    "with open('./input10.txt') as f:\n",
    "    for line in f:\n",
    "        lines.append(line[:-1])\n",
    "\n",
    "# lines = test_lines_6"
   ]
  },
  {
   "cell_type": "code",
   "execution_count": 172,
   "id": "f880a3dc-56fa-4e36-8bb8-376e06f42f51",
   "metadata": {},
   "outputs": [
    {
     "data": {
      "text/plain": [
       "6856"
      ]
     },
     "execution_count": 172,
     "metadata": {},
     "output_type": "execute_result"
    }
   ],
   "source": [
    "# find the S\n",
    "for i, line in enumerate(lines):\n",
    "    for j, c in enumerate(line):\n",
    "        if c == 'S':\n",
    "            s_pos = (i,j)\n",
    "\n",
    "# find one of the outgoing points\n",
    "i, j = s_pos\n",
    "if lines[i+1][j] in {'|', 'L', 'J'}:\n",
    "    next_pos = (i+1, j)\n",
    "\n",
    "if lines[i-1][j] in {'|', '7', 'F'}:\n",
    "    next_pos = (i+1, j)\n",
    "\n",
    "if lines[i][j-1] in {'-', 'L', 'F'}:\n",
    "    next_pos = (i+1, j)\n",
    "\n",
    "if lines[i][j+1] in {'-', '7', 'J'}:\n",
    "    next_pos = (i+1, j)\n",
    "\n",
    "    \n",
    "current_pos = next_pos\n",
    "previous_pos = s_pos\n",
    "n_steps = 1\n",
    "while current_pos != s_pos:\n",
    "    i,j = current_pos\n",
    "    current_pipe = lines[i][j]\n",
    "\n",
    "    if current_pipe == '|':\n",
    "        new_pos = (i+1,j) if previous_pos != (i+1,j) else (i-1,j)\n",
    "\n",
    "    elif current_pipe == '-':\n",
    "        new_pos = (i,j+1) if previous_pos != (i,j+1) else (i,j-1)\n",
    "    \n",
    "    elif current_pipe == 'L':\n",
    "        new_pos = (i,j+1) if previous_pos != (i,j+1) else (i-1,j)\n",
    "\n",
    "    elif current_pipe == 'J':\n",
    "        new_pos = (i,j-1) if previous_pos != (i,j-1) else (i-1,j)\n",
    "\n",
    "    elif current_pipe == '7':\n",
    "        new_pos = (i+1,j) if previous_pos != (i+1,j) else (i,j-1)\n",
    "    \n",
    "    elif current_pipe == 'F':\n",
    "        new_pos = (i+1,j) if previous_pos != (i+1,j) else (i,j+1)\n",
    "\n",
    "    \n",
    "    previous_pos = current_pos\n",
    "    current_pos = new_pos\n",
    "    n_steps +=1\n",
    "\n",
    "int(n_steps / 2)\n",
    "        "
   ]
  },
  {
   "cell_type": "code",
   "execution_count": 173,
   "id": "e89af9b8-ec88-41d7-bc09-5457d7888d80",
   "metadata": {},
   "outputs": [],
   "source": [
    "# find the S\n",
    "grid_points = set()\n",
    "for i, line in enumerate(lines):\n",
    "    for j, c in enumerate(line):\n",
    "        grid_points.add((i,j))\n",
    "        if c == 'S':\n",
    "            s_pos = (i,j)\n",
    "\n",
    "# find one of the outgoing points\n",
    "i, j = s_pos\n",
    "if lines[i+1][j] in {'|', 'L', 'J'}:\n",
    "    next_pos = (i+1, j)\n",
    "\n",
    "if lines[i-1][j] in {'|', '7', 'F'}:\n",
    "    next_pos = (i+1, j)\n",
    "\n",
    "if lines[i][j-1] in {'-', 'L', 'F'}:\n",
    "    next_pos = (i+1, j)\n",
    "\n",
    "if lines[i][j+1] in {'-', '7', 'J'}:\n",
    "    next_pos = (i+1, j)\n",
    "\n",
    "    \n",
    "current_pos = next_pos\n",
    "previous_pos = s_pos\n",
    "\n",
    "pipe_tiles = [s_pos]\n",
    "while current_pos != s_pos:\n",
    "    pipe_tiles.append(current_pos)\n",
    "    i,j = current_pos\n",
    "    current_pipe = lines[i][j]\n",
    "\n",
    "    if current_pipe == '|':\n",
    "        new_pos = (i+1,j) if previous_pos != (i+1,j) else (i-1,j)\n",
    "\n",
    "    elif current_pipe == '-':\n",
    "        new_pos = (i,j+1) if previous_pos != (i,j+1) else (i,j-1)\n",
    "    \n",
    "    elif current_pipe == 'L':\n",
    "        new_pos = (i,j+1) if previous_pos != (i,j+1) else (i-1,j)\n",
    "\n",
    "    elif current_pipe == 'J':\n",
    "        new_pos = (i,j-1) if previous_pos != (i,j-1) else (i-1,j)\n",
    "\n",
    "    elif current_pipe == '7':\n",
    "        new_pos = (i+1,j) if previous_pos != (i+1,j) else (i,j-1)\n",
    "    \n",
    "    elif current_pipe == 'F':\n",
    "        new_pos = (i+1,j) if previous_pos != (i+1,j) else (i,j+1)\n",
    "\n",
    "    \n",
    "    previous_pos = current_pos\n",
    "    current_pos = new_pos\n",
    "\n",
    "left_tiles = set()\n",
    "right_tiles = set()\n",
    "for k, pipe_tile in enumerate(pipe_tiles):\n",
    "\n",
    "    i,j = pipe_tile\n",
    "    pipe_type = lines[i][j]\n",
    "\n",
    "    if pipe_type == '|':\n",
    "        if pipe_tiles[k-1][0] > i:\n",
    "            if (i, j-1) not in pipe_tiles:\n",
    "                left_tiles.add((i, j-1))\n",
    "            if (i, j+1) not in pipe_tiles:\n",
    "                right_tiles.add((i, j+1))\n",
    "        else:\n",
    "            if (i, j+1) not in pipe_tiles:\n",
    "                left_tiles.add((i, j+1))\n",
    "            if (i, j-1) not in pipe_tiles:\n",
    "                right_tiles.add((i, j-1))\n",
    "\n",
    "    if pipe_type == '-':\n",
    "        if pipe_tiles[k-1][1] < j:\n",
    "            if (i-1, j) not in pipe_tiles:\n",
    "                left_tiles.add((i-1, j))\n",
    "            if (i+1, j) not in pipe_tiles:\n",
    "                right_tiles.add((i+1, j))\n",
    "        else:\n",
    "            if (i+1, j) not in pipe_tiles:\n",
    "                left_tiles.add((i+1, j))\n",
    "            if (i-1, j) not in pipe_tiles:\n",
    "                right_tiles.add((i-1, j))\n",
    "\n",
    "    if pipe_type == 'L':\n",
    "        if pipe_tiles[k-1][0] < i:\n",
    "            if (i, j-1) not in pipe_tiles:\n",
    "                right_tiles.add((i, j-1))\n",
    "            if (i+1, j) not in pipe_tiles:\n",
    "                right_tiles.add((i+1, j))\n",
    "        else:\n",
    "            if (i, j-1) not in pipe_tiles:\n",
    "                left_tiles.add((i, j-1))\n",
    "            if (i+1, j) not in pipe_tiles:\n",
    "                left_tiles.add((i+1, j))\n",
    "\n",
    "    if pipe_type == 'J':\n",
    "        if pipe_tiles[k-1][0] < i:\n",
    "            if (i, j+1) not in pipe_tiles:\n",
    "                left_tiles.add((i, j+1))\n",
    "            if (i+1, j) not in pipe_tiles:\n",
    "                left_tiles.add((i+1, j))\n",
    "        else:\n",
    "            if (i, j+1) not in pipe_tiles:\n",
    "                right_tiles.add((i, j+1))\n",
    "            if (i+1, j) not in pipe_tiles:\n",
    "                right_tiles.add((i+1, j))\n",
    "\n",
    "    if pipe_type == '7':\n",
    "        if pipe_tiles[k-1][0] > i:\n",
    "            if (i, j+1) not in pipe_tiles:\n",
    "                right_tiles.add((i, j+1))\n",
    "            if (i-1, j) not in pipe_tiles:\n",
    "                right_tiles.add((i-1, j))\n",
    "        else:\n",
    "            if (i, j+1) not in pipe_tiles:\n",
    "                left_tiles.add((i, j+1))\n",
    "            if (i-1, j) not in pipe_tiles:\n",
    "                left_tiles.add((i-1, j))\n",
    "\n",
    "    if pipe_type == 'F':\n",
    "        if pipe_tiles[k-1][0] > i:\n",
    "            if (i, j-1) not in pipe_tiles:\n",
    "                left_tiles.add((i, j-1))\n",
    "            if (i-1, j) not in pipe_tiles:\n",
    "                left_tiles.add((i-1, j))\n",
    "        else:\n",
    "            if (i, j-1) not in pipe_tiles:\n",
    "                right_tiles.add((i, j-1))\n",
    "            if (i-1, j) not in pipe_tiles:\n",
    "                right_tiles.add((i-1, j))\n",
    "\n",
    "\n",
    "right_tiles = list(right_tiles)\n",
    "left_tiles = list(left_tiles)\n",
    "\n",
    "for tile in right_tiles:\n",
    "    i,j = tile\n",
    "    tile_neighbours = [(i+1,j),(i-1,j),(i, j+1),(i, j-1)]\n",
    "    for neighbour in tile_neighbours:\n",
    "        if (neighbour not in pipe_tiles) and (neighbour not in right_tiles) and neighbour in (grid_points):\n",
    "            right_tiles.append(neighbour)\n",
    "\n",
    "for tile in left_tiles:\n",
    "    i,j = tile\n",
    "    tile_neighbours = [(i+1,j),(i-1,j),(i, j+1),(i, j-1)]\n",
    "    for neighbour in tile_neighbours:\n",
    "        if (neighbour not in pipe_tiles) and (neighbour not in left_tiles) and neighbour in (grid_points):\n",
    "            left_tiles.append(neighbour)\n",
    "    "
   ]
  },
  {
   "cell_type": "code",
   "execution_count": 175,
   "id": "454a9467-61ee-47fd-982e-afd2c7f38359",
   "metadata": {},
   "outputs": [
    {
     "data": {
      "text/plain": [
       "5409"
      ]
     },
     "execution_count": 175,
     "metadata": {},
     "output_type": "execute_result"
    }
   ],
   "source": [
    "len(right_tiles)"
   ]
  },
  {
   "cell_type": "code",
   "execution_count": 177,
   "id": "182b01df-9e68-4b86-8bd7-68d5310e9a33",
   "metadata": {},
   "outputs": [
    {
     "data": {
      "text/plain": [
       "501"
      ]
     },
     "execution_count": 177,
     "metadata": {},
     "output_type": "execute_result"
    }
   ],
   "source": [
    "len(left_tiles)"
   ]
  },
  {
   "cell_type": "code",
   "execution_count": 170,
   "id": "70209395-1f8f-4ec7-8555-88bf07311d17",
   "metadata": {},
   "outputs": [
    {
     "name": "stdout",
     "output_type": "stream",
     "text": [
      "3 14\n",
      "4 10\n",
      "4 11\n",
      "4 12\n",
      "4 13\n",
      "5 11\n",
      "5 12\n",
      "5 13\n",
      "6 13\n",
      "6 14\n"
     ]
    }
   ],
   "source": [
    "answer = \"\"\"\n",
    "FF7FSF7F7F7F7F7F---7\n",
    "L|LJ||||||||||||F--J\n",
    "FL-7LJLJ||||||LJL-77\n",
    "F--JF--7||LJLJIF7FJ-\n",
    "L---JF-JLJIIIIFJLJJ7\n",
    "|F|F-JF---7IIIL7L|7|\n",
    "|FFJF7L7F-JF7IIL---7\n",
    "7-L-JL7||F7|L7F-7F7|\n",
    "L.L7LFJ|||||FJL7||LJ\n",
    "L7JLJL-JLJLJL--JLJ.L\n",
    "\"\"\"\n",
    "\n",
    "answer_lines = answer.split('\\n')[1:-1]\n",
    "for i, line in enumerate(answer_lines):\n",
    "    for j, c in enumerate(line):\n",
    "        if c == 'I':\n",
    "            print(i,j)"
   ]
  },
  {
   "cell_type": "code",
   "execution_count": 143,
   "id": "ed9de084-66aa-4aed-820e-87338ed843b3",
   "metadata": {},
   "outputs": [
    {
     "data": {
      "text/plain": [
       "['OF----7F7F7F7F-7OOOO',\n",
       " 'O|F--7||||||||FJOOOO',\n",
       " 'O||OFJ||||||||L7OOOO',\n",
       " 'FJL7L7LJLJ||LJIL-7OO',\n",
       " 'L--JOL7IIILJS7F-7L7O',\n",
       " 'OOOOF-JIIF7FJ|L7L7L7',\n",
       " 'OOOOL7IF7||L7|IL7L7|',\n",
       " 'OOOOO|FJLJ|FJ|F7|OLJ',\n",
       " 'OOOOFJL-7O||O||||OOO',\n",
       " 'OOOOL---JOLJOLJLJOOO']"
      ]
     },
     "execution_count": 143,
     "metadata": {},
     "output_type": "execute_result"
    }
   ],
   "source": []
  },
  {
   "cell_type": "code",
   "execution_count": null,
   "id": "537a28bc-07cc-4e19-ae70-8614ee196aa6",
   "metadata": {},
   "outputs": [],
   "source": []
  }
 ],
 "metadata": {
  "kernelspec": {
   "display_name": "Python 3 (ipykernel)",
   "language": "python",
   "name": "python3"
  },
  "language_info": {
   "codemirror_mode": {
    "name": "ipython",
    "version": 3
   },
   "file_extension": ".py",
   "mimetype": "text/x-python",
   "name": "python",
   "nbconvert_exporter": "python",
   "pygments_lexer": "ipython3",
   "version": "3.10.9"
  }
 },
 "nbformat": 4,
 "nbformat_minor": 5
}
