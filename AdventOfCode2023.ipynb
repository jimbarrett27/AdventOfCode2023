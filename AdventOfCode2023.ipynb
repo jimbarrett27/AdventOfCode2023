{
 "cells": [
  {
   "cell_type": "markdown",
   "id": "366e646d-17cf-45cb-8f33-0fefb2ad0052",
   "metadata": {},
   "source": [
    "# Day 1"
   ]
  },
  {
   "cell_type": "code",
   "execution_count": 1,
   "id": "dab96497-9bca-4b38-b161-4f782d905a5d",
   "metadata": {},
   "outputs": [],
   "source": [
    "test_data = \"\"\"\n",
    "two1nine\n",
    "eightwothree\n",
    "abcone2threexyz\n",
    "xtwone3four\n",
    "4nineeightseven2\n",
    "zoneight234\n",
    "7pqrstsixteen\n",
    "\"\"\"\n",
    "test_lines = test_data.split()"
   ]
  },
  {
   "cell_type": "code",
   "execution_count": 2,
   "id": "3ca6ce26-16ac-4b86-8e1b-071c81751943",
   "metadata": {},
   "outputs": [
    {
     "data": {
      "text/plain": [
       "['two1nine',\n",
       " 'eightwothree',\n",
       " 'abcone2threexyz',\n",
       " 'xtwone3four',\n",
       " '4nineeightseven2',\n",
       " 'zoneight234',\n",
       " '7pqrstsixteen']"
      ]
     },
     "execution_count": 2,
     "metadata": {},
     "output_type": "execute_result"
    }
   ],
   "source": [
    "test_lines"
   ]
  },
  {
   "cell_type": "code",
   "execution_count": 3,
   "id": "de415ce5-5e82-40a1-9f06-873e9173b317",
   "metadata": {},
   "outputs": [],
   "source": [
    "lines = []\n",
    "with open('./input1.txt') as f:\n",
    "    for line in f:\n",
    "        lines.append(line)"
   ]
  },
  {
   "cell_type": "code",
   "execution_count": 4,
   "id": "dc266788-6fc2-46c5-9902-754f52ff8dd4",
   "metadata": {},
   "outputs": [
    {
     "data": {
      "text/plain": [
       "55712"
      ]
     },
     "execution_count": 4,
     "metadata": {},
     "output_type": "execute_result"
    }
   ],
   "source": [
    "# part 1\n",
    "total = 0\n",
    "for line in lines:\n",
    "    line = line.replace('\\n', '')\n",
    "    numbers = line\n",
    "    for c in 'abcdefghijklmnopqrstuvwxyz':\n",
    "        numbers = numbers.replace(c, '').replace(c.upper(), '')\n",
    "    total += int(numbers[0] + numbers[-1])\n",
    "total"
   ]
  },
  {
   "cell_type": "code",
   "execution_count": 5,
   "id": "e20f831e-53fc-433b-a92a-97226e8958f9",
   "metadata": {},
   "outputs": [
    {
     "data": {
      "text/plain": [
       "55413"
      ]
     },
     "execution_count": 5,
     "metadata": {},
     "output_type": "execute_result"
    }
   ],
   "source": [
    "# part 2\n",
    "total = 0\n",
    "for line in lines:\n",
    "    line = line.replace('\\n', '').lower()\n",
    "    numbers = line\n",
    "    spelled_to_actual = {'one': 1, 'two': 2, 'three': 3, 'four': 4, 'five': 5, 'six': 6, 'seven': 7, 'eight': 8, 'nine': 9}\n",
    "\n",
    "    first_number = None\n",
    "    for i in range(len(numbers)):\n",
    "\n",
    "        if first_number is not None:\n",
    "            break\n",
    "\n",
    "        if numbers[i].isdigit():\n",
    "            first_number = numbers[i]\n",
    "            break\n",
    "        \n",
    "        for spelled, actual in spelled_to_actual.items():\n",
    "            if numbers[i:i+len(spelled)] == spelled:\n",
    "                first_number = str(actual)\n",
    "                break\n",
    "                \n",
    "                \n",
    "\n",
    "    last_number = None\n",
    "    for i in list(range(len(numbers)))[::-1]:\n",
    "        if last_number is not None:\n",
    "            break\n",
    "\n",
    "        if numbers[i].isdigit():\n",
    "            last_number = numbers[i]\n",
    "            break\n",
    "        \n",
    "        for spelled, actual in spelled_to_actual.items():\n",
    "            if numbers[i:i+len(spelled)] == spelled:\n",
    "                last_number = str(actual)\n",
    "                break\n",
    "\n",
    "    total += int(first_number + last_number)\n",
    "    \n",
    "total"
   ]
  },
  {
   "cell_type": "markdown",
   "id": "0ae8ce7a-2fa1-4e39-8b23-779f885239f1",
   "metadata": {},
   "source": [
    "# Day 2"
   ]
  },
  {
   "cell_type": "code",
   "execution_count": 6,
   "id": "bd3845dd-b5e6-45b0-a92a-922ac52ab8cf",
   "metadata": {},
   "outputs": [],
   "source": [
    "test_lines = \"\"\"\n",
    "Game 1: 3 blue, 4 red; 1 red, 2 green, 6 blue; 2 green\n",
    "Game 2: 1 blue, 2 green; 3 green, 4 blue, 1 red; 1 green, 1 blue\n",
    "Game 3: 8 green, 6 blue, 20 red; 5 blue, 4 red, 13 green; 5 green, 1 red\n",
    "Game 4: 1 green, 3 red, 6 blue; 3 green, 6 red; 3 green, 15 blue, 14 red\n",
    "Game 5: 6 red, 1 blue, 3 green; 2 blue, 1 red, 2 green\n",
    "\"\"\".split('\\n')[1:-1]"
   ]
  },
  {
   "cell_type": "code",
   "execution_count": 7,
   "id": "9d15320e-a2c0-4cb8-8e25-e965997c0488",
   "metadata": {},
   "outputs": [],
   "source": [
    "lines = []\n",
    "with open('./input2.txt') as f:\n",
    "    for line in f:\n",
    "        lines.append(line)"
   ]
  },
  {
   "cell_type": "code",
   "execution_count": 8,
   "id": "d5b65d37-c729-4654-9c43-dca98ad5020b",
   "metadata": {},
   "outputs": [
    {
     "data": {
      "text/plain": [
       "2879"
      ]
     },
     "execution_count": 8,
     "metadata": {},
     "output_type": "execute_result"
    }
   ],
   "source": [
    "max_counts = {'red': 12, 'green': 13, 'blue': 14}\n",
    "\n",
    "total = 0\n",
    "for line in lines:\n",
    "    game_and_id, games = line.split(':')\n",
    "    game_id = game_and_id.split()[-1]\n",
    "    legal_game = True\n",
    "    for game in games.split(';'):\n",
    "        for count_colour in game.split(','):\n",
    "            count, colour = count_colour.split()\n",
    "            if int(count) > max_counts[colour]:\n",
    "                legal_game = False\n",
    "\n",
    "    if legal_game:\n",
    "        total += int(game_id)\n",
    "total"
   ]
  },
  {
   "cell_type": "code",
   "execution_count": 9,
   "id": "760954bd-850f-410f-bc6c-2999d1620cfb",
   "metadata": {},
   "outputs": [
    {
     "data": {
      "text/plain": [
       "65122"
      ]
     },
     "execution_count": 9,
     "metadata": {},
     "output_type": "execute_result"
    }
   ],
   "source": [
    "total_power = 0\n",
    "for line in lines:\n",
    "    game_and_id, games = line.split(':')\n",
    "    game_id = game_and_id.split()[-1]\n",
    "\n",
    "    min_counts = {'red': 0, 'blue': 0, 'green':0}\n",
    "    for game in games.split(';'):\n",
    "        for count_colour in game.split(','):\n",
    "            count, colour = count_colour.split()\n",
    "            if int(count) > min_counts[colour]:\n",
    "                min_counts[colour] = int(count)\n",
    "    total_power += min_counts['red'] * min_counts['green'] * min_counts['blue']\n",
    "total_power"
   ]
  },
  {
   "cell_type": "markdown",
   "id": "6dee5897-f81a-4f04-9868-559ee4d13897",
   "metadata": {},
   "source": [
    "# Day 3"
   ]
  },
  {
   "cell_type": "code",
   "execution_count": 10,
   "id": "30b27782-12a3-4cae-a192-72e9ed7ccc31",
   "metadata": {},
   "outputs": [],
   "source": [
    "test_data = \"\"\"\n",
    "467..114..\n",
    "...*......\n",
    "..35..633.\n",
    "......#...\n",
    "617*......\n",
    ".....+.58.\n",
    "..592.....\n",
    "......755.\n",
    "...$.*....\n",
    ".664.598..\n",
    "\"\"\"\n",
    "\n",
    "test_lines = test_data.split()"
   ]
  },
  {
   "cell_type": "code",
   "execution_count": 11,
   "id": "c603b43d-416c-4e6a-94d9-aa1a453212b7",
   "metadata": {},
   "outputs": [],
   "source": [
    "lines = []\n",
    "with open('./input3.txt') as f:\n",
    "    for line in f:\n",
    "        lines.append(line[:-1])\n",
    "\n",
    "# lines = test_lines"
   ]
  },
  {
   "cell_type": "code",
   "execution_count": 12,
   "id": "e4c50292-7674-4285-b9ca-1e5df8f47991",
   "metadata": {},
   "outputs": [
    {
     "data": {
      "text/plain": [
       "540025"
      ]
     },
     "execution_count": 12,
     "metadata": {},
     "output_type": "execute_result"
    }
   ],
   "source": [
    "grid_point_to_number = {}\n",
    "grid_point_to_id = {}\n",
    "part_positions = set()\n",
    "id_numb = 0\n",
    "for i,line in enumerate(lines):\n",
    "    digits = ''\n",
    "    for j, character in enumerate(line):\n",
    "        if character.isdigit():\n",
    "            digits += character\n",
    "        else:\n",
    "            if len(digits) > 0:\n",
    "                for k in range(len(digits)):\n",
    "                    grid_point_to_number[(i,j-k-1)] = int(digits)\n",
    "                    grid_point_to_id[(i, j-k-1)] = id_numb\n",
    "                digits = ''\n",
    "                id_numb += 1\n",
    "            if character != '.':\n",
    "                part_positions.add((i,j))\n",
    "    if len(digits) > 0:\n",
    "        for k in range(len(digits)):\n",
    "            grid_point_to_number[(i,j-k)] = int(digits)\n",
    "            grid_point_to_id[(i, j-k)] = id_numb\n",
    "        digits = ''\n",
    "        id_numb += 1\n",
    "\n",
    "part_numbs = []\n",
    "for i, j in part_positions:\n",
    "    used_ids = set()\n",
    "    for new_pos in [(i, j-1), (i+1,j-1), (i+1, j), (i+1, j+1), (i, j+1), (i-1, j+1), (i-1, j), (i-1, j-1)]:\n",
    "        if new_pos in grid_point_to_number and grid_point_to_id[new_pos] not in used_ids:\n",
    "            part_numbs.append(grid_point_to_number[new_pos])\n",
    "            used_ids.add(grid_point_to_id[new_pos])\n",
    "\n",
    "sum(part_numbs)"
   ]
  },
  {
   "cell_type": "code",
   "execution_count": 13,
   "id": "88f55940-6a96-4388-99fb-c766393f0990",
   "metadata": {},
   "outputs": [
    {
     "data": {
      "text/plain": [
       "84584891"
      ]
     },
     "execution_count": 13,
     "metadata": {},
     "output_type": "execute_result"
    }
   ],
   "source": [
    "gear_ratios = []\n",
    "for i, j in part_positions:\n",
    "    if lines[i][j] != '*':\n",
    "        continue\n",
    "    \n",
    "    used_ids = set()\n",
    "    part_numbs = []\n",
    "    for new_pos in [(i, j-1), (i+1,j-1), (i+1, j), (i+1, j+1), (i, j+1), (i-1, j+1), (i-1, j), (i-1, j-1)]:\n",
    "        if new_pos in grid_point_to_number and grid_point_to_id[new_pos] not in used_ids:\n",
    "            part_numbs.append(grid_point_to_number[new_pos])\n",
    "            used_ids.add(grid_point_to_id[new_pos])\n",
    "\n",
    "    if len(used_ids) != 2:\n",
    "        continue\n",
    "\n",
    "    gear_ratios.append(part_numbs[0] * part_numbs[1])\n",
    "\n",
    "sum(gear_ratios)"
   ]
  },
  {
   "cell_type": "markdown",
   "id": "8c9ceaf7-38d9-44eb-9f2d-4ae47ce72bb9",
   "metadata": {},
   "source": [
    "# Day 4"
   ]
  },
  {
   "cell_type": "code",
   "execution_count": 14,
   "id": "4a53fa3d-8ab5-4e43-9e7a-439da729012b",
   "metadata": {},
   "outputs": [],
   "source": [
    "test_data = \"\"\"\n",
    "Card 1: 41 48 83 86 17 | 83 86  6 31 17  9 48 53\n",
    "Card 2: 13 32 20 16 61 | 61 30 68 82 17 32 24 19\n",
    "Card 3:  1 21 53 59 44 | 69 82 63 72 16 21 14  1\n",
    "Card 4: 41 92 73 84 69 | 59 84 76 51 58  5 54 83\n",
    "Card 5: 87 83 26 28 32 | 88 30 70 12 93 22 82 36\n",
    "Card 6: 31 18 13 56 72 | 74 77 10 23 35 67 36 11\n",
    "\"\"\"\n",
    "\n",
    "test_lines = test_data.split('\\n')[1:-1]"
   ]
  },
  {
   "cell_type": "code",
   "execution_count": 15,
   "id": "b499347e-651f-43c9-bf04-a7a3b879ea9b",
   "metadata": {},
   "outputs": [],
   "source": [
    "lines = []\n",
    "with open('./input4.txt') as f:\n",
    "    for line in f:\n",
    "        lines.append(line[:-1])"
   ]
  },
  {
   "cell_type": "code",
   "execution_count": 16,
   "id": "5742cb38-3d0a-4dee-8187-2fe9035cab99",
   "metadata": {},
   "outputs": [
    {
     "data": {
      "text/plain": [
       "24175"
      ]
     },
     "execution_count": 16,
     "metadata": {},
     "output_type": "execute_result"
    }
   ],
   "source": [
    "total_score = 0\n",
    "for line in lines:\n",
    "    _, vals = line.split(':')\n",
    "    vals1, vals2 = vals.split('|')\n",
    "    vals1 = set(vals1.split())\n",
    "    vals2 = set(vals2.split())\n",
    "    intersection_size = len(vals1 & vals2)\n",
    "    if intersection_size > 0:\n",
    "        total_score += 2 ** (intersection_size - 1)\n",
    "total_score"
   ]
  },
  {
   "cell_type": "code",
   "execution_count": 17,
   "id": "7d2bfbf7-0e73-410a-b48d-b1dc0bfcb45b",
   "metadata": {},
   "outputs": [
    {
     "data": {
      "text/plain": [
       "18846301"
      ]
     },
     "execution_count": 17,
     "metadata": {},
     "output_type": "execute_result"
    }
   ],
   "source": [
    "cached_results = {}\n",
    "\n",
    "def evaluate_card(card_ind, lines_to_use):\n",
    "\n",
    "    if card_ind in cached_results:\n",
    "        return cached_results[card_ind]\n",
    "\n",
    "    total = 1\n",
    "    \n",
    "    card = lines_to_use[card_ind]\n",
    "    _, vals = card.split(':')\n",
    "    vals1, vals2 = vals.split('|')\n",
    "    vals1 = set(vals1.split())\n",
    "    vals2 = set(vals2.split())\n",
    "    intersection_size = len(vals1 & vals2)\n",
    "\n",
    "    for i in range(intersection_size):\n",
    "        total += evaluate_card(card_ind + i + 1, lines_to_use) \n",
    "\n",
    "    cached_results[card_ind] = total\n",
    "    \n",
    "    return total\n",
    "\n",
    "sum(evaluate_card(i, lines) for i, _ in enumerate(lines))"
   ]
  },
  {
   "cell_type": "markdown",
   "id": "c72e49f2-3467-49e8-afe4-bace5b978707",
   "metadata": {},
   "source": [
    "# Day 5"
   ]
  },
  {
   "cell_type": "code",
   "execution_count": 33,
   "id": "c0bf9840-b47d-4980-82c7-61f246de9e96",
   "metadata": {},
   "outputs": [],
   "source": [
    "test_data = \"\"\"\n",
    "seeds: 79 14 55 13\n",
    "\n",
    "seed-to-soil map:\n",
    "50 98 2\n",
    "52 50 48\n",
    "\n",
    "soil-to-fertilizer map:\n",
    "0 15 37\n",
    "37 52 2\n",
    "39 0 15\n",
    "\n",
    "fertilizer-to-water map:\n",
    "49 53 8\n",
    "0 11 42\n",
    "42 0 7\n",
    "57 7 4\n",
    "\n",
    "water-to-light map:\n",
    "88 18 7\n",
    "18 25 70\n",
    "\n",
    "light-to-temperature map:\n",
    "45 77 23\n",
    "81 45 19\n",
    "68 64 13\n",
    "\n",
    "temperature-to-humidity map:\n",
    "0 69 1\n",
    "1 0 69\n",
    "\n",
    "humidity-to-location map:\n",
    "60 56 37\n",
    "56 93 4\n",
    "\"\"\"\n",
    "\n",
    "test_lines = test_data.split('\\n')"
   ]
  },
  {
   "cell_type": "code",
   "execution_count": 34,
   "id": "59ba6811-fcdc-42b7-a0a3-b09d84a8fdc8",
   "metadata": {},
   "outputs": [],
   "source": [
    "lines = []\n",
    "with open('./input5.txt') as f:\n",
    "    for line in f:\n",
    "        lines.append(line[:-1])\n",
    "lines.append('')"
   ]
  },
  {
   "cell_type": "code",
   "execution_count": 35,
   "id": "de14ef9a-3eff-4aee-9f4a-73375dfcb670",
   "metadata": {},
   "outputs": [
    {
     "data": {
      "text/plain": [
       "278755257"
      ]
     },
     "execution_count": 35,
     "metadata": {},
     "output_type": "execute_result"
    }
   ],
   "source": [
    "eval_map = False\n",
    "source_numbers = []\n",
    "dest_numbers = []\n",
    "for line in lines:\n",
    "    if 'seeds:' in line: \n",
    "        source_numbers = list(map(int,line.split(':')[1].split()))\n",
    "        continue\n",
    "    if 'map:' in line:\n",
    "        eval_map = True\n",
    "        dest_numbers = []\n",
    "        continue\n",
    "    if eval_map and line != '':\n",
    "        dest, source, rang = list(map(int,line.split()))\n",
    "        for i in range(len(source_numbers)-1, -1,-1):\n",
    "            number = source_numbers[i]\n",
    "            if number in range(source, source + rang):\n",
    "                dest_numbers.append(dest + (number - source))\n",
    "                source_numbers = source_numbers[:i] + source_numbers[i+1:]\n",
    "\n",
    "    if eval_map and line == '':\n",
    "        dest_numbers += source_numbers\n",
    "        source_numbers = dest_numbers\n",
    "        eval_map = False\n",
    "\n",
    "min(dest_numbers)"
   ]
  },
  {
   "cell_type": "code",
   "execution_count": 37,
   "id": "0a6c67a2-a2ec-4c77-b0f0-4713872e6686",
   "metadata": {},
   "outputs": [
    {
     "data": {
      "text/plain": [
       "26829166"
      ]
     },
     "execution_count": 37,
     "metadata": {},
     "output_type": "execute_result"
    }
   ],
   "source": [
    "def get_span_overlap(span1, span2):\n",
    "\n",
    "    overlap = (max(span1[0], span2[0]), min(span1[1], span2[1]))\n",
    "    return overlap if overlap[0] < overlap[1] else None\n",
    "    \n",
    "\n",
    "for line in lines:\n",
    "    if 'seeds:' in line:\n",
    "        seed_numbers = list(map(int,line.split(':')[1].split()))\n",
    "        seed_starts = seed_numbers[::2]\n",
    "        seed_spans = seed_numbers[1::2]\n",
    "        source_ranges = []\n",
    "        for start, span in zip(seed_starts, seed_spans):\n",
    "            source_ranges.append((start, start+span))\n",
    "        continue\n",
    "    if 'map:' in line:\n",
    "        eval_map = True\n",
    "        dest_ranges = []\n",
    "        continue\n",
    "    \n",
    "    if eval_map and line != '':\n",
    "        dest, source, rang = list(map(int,line.split()))\n",
    "\n",
    "        input_range = (source, source + rang)\n",
    "        new_source_ranges = []\n",
    "        for source_range in source_ranges:\n",
    "            overlap = get_span_overlap(input_range, source_range)\n",
    "            if overlap is None:\n",
    "                new_source_ranges.append(source_range)\n",
    "                continue\n",
    "            destination_offset = dest - source\n",
    "            dest_ranges.append((overlap[0] + destination_offset, overlap[1] + destination_offset))\n",
    "\n",
    "            if min(source_range) < min(overlap):\n",
    "                new_source_ranges.append((min(source_range), min(overlap)))\n",
    "\n",
    "            if max(source_range) > max(overlap):\n",
    "                new_source_ranges.append((max(overlap), max(source_range)))\n",
    "\n",
    "        source_ranges = new_source_ranges\n",
    "        \n",
    "    if eval_map and line == '':\n",
    "        dest_ranges += source_ranges\n",
    "        source_ranges = dest_ranges\n",
    "        eval_map = False\n",
    "\n",
    "min(r[0] for r in dest_ranges)"
   ]
  },
  {
   "cell_type": "markdown",
   "id": "123d62f9-ec0c-4f56-bab9-fb2beda024d1",
   "metadata": {},
   "source": [
    "# Day 6"
   ]
  },
  {
   "cell_type": "code",
   "execution_count": 68,
   "id": "6eefcbb8-bda4-4e11-9701-3a0efe33edd5",
   "metadata": {},
   "outputs": [],
   "source": [
    "test_input = \"\"\"\n",
    "Time:      7  15   30\n",
    "Distance:  9  40  200\n",
    "\"\"\"\n",
    "\n",
    "test_lines = test_input.split('\\n')[1:-1]"
   ]
  },
  {
   "cell_type": "code",
   "execution_count": 79,
   "id": "86ef970a-2a6a-4b04-80ef-2427c58b6864",
   "metadata": {},
   "outputs": [],
   "source": [
    "lines = []\n",
    "with open('./input6.txt') as f:\n",
    "    for line in f:\n",
    "        lines.append(line[:-1])\n",
    "\n",
    "# lines = test_lines"
   ]
  },
  {
   "cell_type": "code",
   "execution_count": 80,
   "id": "e5db33d9-25bc-4252-a3a3-c27c833aff68",
   "metadata": {},
   "outputs": [
    {
     "data": {
      "text/plain": [
       "500346"
      ]
     },
     "execution_count": 80,
     "metadata": {},
     "output_type": "execute_result"
    }
   ],
   "source": [
    "times = list(map(int,lines[0].split(':')[1].split()))\n",
    "distance_records = list(map(int,lines[1].split(':')[1].split()))\n",
    "\n",
    "result = 1\n",
    "for time, record in zip(times, distance_records):\n",
    "    winning_strategies = 0\n",
    "    for held_time in range(time):\n",
    "        distance_travelled = held_time * (time - held_time)\n",
    "        if distance_travelled > record:\n",
    "            winning_strategies += 1\n",
    "\n",
    "    result *= winning_strategies\n",
    "result"
   ]
  },
  {
   "cell_type": "code",
   "execution_count": 81,
   "id": "25e60bba-f81e-4a48-9a72-83ee931e0e6f",
   "metadata": {},
   "outputs": [
    {
     "data": {
      "text/plain": [
       "42515755"
      ]
     },
     "execution_count": 81,
     "metadata": {},
     "output_type": "execute_result"
    }
   ],
   "source": [
    "time = int(''.join(lines[0].split(':')[1].split()))\n",
    "distance_record = int(''.join(lines[1].split(':')[1].split()))\n",
    "\n",
    "root1 = (time / 2) + (((time*time) - (4*distance_record))**0.5)/2\n",
    "root2 = (time / 2) - (((time*time) - (4*distance_record))**0.5)/2\n",
    "\n",
    "int(root1) - int(root2)"
   ]
  },
  {
   "cell_type": "markdown",
   "id": "6996bffb-78c9-497a-bf98-e904d87ec314",
   "metadata": {},
   "source": [
    "# Day 7"
   ]
  },
  {
   "cell_type": "code",
   "execution_count": 84,
   "id": "be9d4fb3-0d72-44eb-a299-39c12ca8ba69",
   "metadata": {},
   "outputs": [],
   "source": [
    "test_data = \"\"\"\n",
    "32T3K 765\n",
    "T55J5 684\n",
    "KK677 28\n",
    "KTJJT 220\n",
    "QQQJA 483\n",
    "\"\"\"\n",
    "\n",
    "test_lines = test_data.split('\\n')[1:-1]\n"
   ]
  },
  {
   "cell_type": "code",
   "execution_count": 123,
   "id": "69c340c1-a688-4ddf-a85c-52acc32ce0de",
   "metadata": {},
   "outputs": [],
   "source": [
    "lines = []\n",
    "with open('./input7.txt') as f:\n",
    "    for line in f:\n",
    "        lines.append(line[:-1])\n",
    "\n",
    "# lines = test_lines"
   ]
  },
  {
   "cell_type": "code",
   "execution_count": 124,
   "id": "acdede32-6037-44aa-88a1-1d1695c4ac16",
   "metadata": {},
   "outputs": [
    {
     "data": {
      "text/plain": [
       "253205868"
      ]
     },
     "execution_count": 124,
     "metadata": {},
     "output_type": "execute_result"
    }
   ],
   "source": [
    "def rank_line(line):\n",
    "\n",
    "    cards, _ = line.split()\n",
    "\n",
    "    card_counts = {}\n",
    "    for card in cards:\n",
    "        if card not in card_counts:\n",
    "            card_counts[card] = 0\n",
    "        card_counts[card] += 1\n",
    "\n",
    "    # five of a kind\n",
    "    if len(card_counts) == 1:\n",
    "        ranking_char = '7'\n",
    "\n",
    "    # four of a kind\n",
    "    elif 4 in card_counts.values():\n",
    "        ranking_char = '6'\n",
    "\n",
    "    # full house\n",
    "    elif (3 in card_counts.values()) and (2 in card_counts.values()):\n",
    "        ranking_char = '5'\n",
    "\n",
    "    # three of a kind\n",
    "    elif 3 in card_counts.values():\n",
    "        ranking_char = '4'\n",
    "\n",
    "    elif sum(count == 2 for count in card_counts.values()) == 2:\n",
    "        ranking_char = '3'\n",
    "\n",
    "    elif 2 in card_counts.values():\n",
    "        ranking_char = '2'\n",
    "\n",
    "    else:\n",
    "        ranking_char = '1'\n",
    "\n",
    "    ranking_str = (ranking_char + cards).replace('A', 'E').replace('K', 'D').replace('Q', 'C').replace('J', 'B').replace('T', 'A')\n",
    "\n",
    "    return ranking_str\n",
    "\n",
    "sorted_lines = sorted(lines, key=rank_line)\n",
    "winnings = 0\n",
    "for rank, line in enumerate(sorted_lines):\n",
    "    _, bid = line.split()\n",
    "    winnings += int(bid) * (rank+1)\n",
    "winnings"
   ]
  },
  {
   "cell_type": "code",
   "execution_count": 176,
   "id": "0b818394-4935-46a4-b312-805502a6c621",
   "metadata": {},
   "outputs": [
    {
     "data": {
      "text/plain": [
       "253907829"
      ]
     },
     "execution_count": 176,
     "metadata": {},
     "output_type": "execute_result"
    }
   ],
   "source": [
    "def rank_line_with_joker(line):\n",
    "\n",
    "    cards, _ = line.split()\n",
    "\n",
    "    card_counts = {}\n",
    "    joker_count = 0\n",
    "    for card in cards:\n",
    "\n",
    "        if card == 'J':\n",
    "            joker_count += 1\n",
    "            continue\n",
    "        if card not in card_counts:\n",
    "            card_counts[card] = 0\n",
    "        card_counts[card] += 1\n",
    "\n",
    "\n",
    "    original_card_counts = dict(card_counts)\n",
    "    if len(card_counts) == 0:\n",
    "        card_counts['joker'] = joker_count\n",
    "    else:\n",
    "        for card in card_counts.keys():\n",
    "            card_counts[card] += joker_count\n",
    "    \n",
    "    # five of a kind\n",
    "    if any(count >= 5 for count in card_counts.values()):\n",
    "        ranking_char = '7'\n",
    "\n",
    "    # four of a kind\n",
    "    elif 4 in card_counts.values():\n",
    "        ranking_char = '6'\n",
    "        \n",
    "\n",
    "    # full house\n",
    "    elif (3 in card_counts.values() and sum(count >= 2 for count in original_card_counts.values()) >= 2\n",
    "          and (\n",
    "              3 in original_card_counts.values()\n",
    "              or sum(count == 2 for count in original_card_counts.values()) == 2\n",
    "    )):\n",
    "        ranking_char = '5'\n",
    "\n",
    "    # three of a kind\n",
    "    elif 3 in card_counts.values():\n",
    "        ranking_char = '4'\n",
    "\n",
    "    elif sum(count == 2 for count in card_counts.values()) == 2  and 2 in original_card_counts.values():\n",
    "        ranking_char = '3'\n",
    "\n",
    "    elif 2 in card_counts.values():\n",
    "        ranking_char = '2'\n",
    "\n",
    "    else:\n",
    "        ranking_char = '1'\n",
    "    \n",
    "    ranking_str = (ranking_char + cards).replace('A', 'E').replace('K', 'D').replace('Q', 'C').replace('J', '0').replace('T', 'A')\n",
    "    \n",
    "    return ranking_str\n",
    "\n",
    "# rank_line_with_joker('1123J x')\n",
    "    \n",
    "sorted_lines = sorted(lines, key=rank_line_with_joker)\n",
    "winnings = 0\n",
    "for rank, line in enumerate(sorted_lines):\n",
    "    _, bid = line.split()\n",
    "    winnings += int(bid) * (rank+1)\n",
    "winnings"
   ]
  },
  {
   "cell_type": "markdown",
   "id": "497165b0-23f2-4c66-ba05-679acd411b17",
   "metadata": {},
   "source": [
    "# Day 8"
   ]
  },
  {
   "cell_type": "code",
   "execution_count": 266,
   "id": "41cafc1d-b3b8-4ac5-a89b-ffae6e92d42c",
   "metadata": {},
   "outputs": [],
   "source": [
    "test_input_1 = \"\"\"\n",
    "RL\n",
    "\n",
    "AAA = (BBB, CCC)\n",
    "BBB = (DDD, EEE)\n",
    "CCC = (ZZZ, GGG)\n",
    "DDD = (DDD, DDD)\n",
    "EEE = (EEE, EEE)\n",
    "GGG = (GGG, GGG)\n",
    "ZZZ = (ZZZ, ZZZ)\n",
    "\"\"\"\n",
    "\n",
    "test_lines_1 = test_input_1.split('\\n')[1:-1]\n",
    "\n",
    "test_input_2 = \"\"\"\n",
    "LLR\n",
    "\n",
    "AAA = (BBB, BBB)\n",
    "BBB = (AAA, ZZZ)\n",
    "ZZZ = (ZZZ, ZZZ)\n",
    "\"\"\"\n",
    "\n",
    "test_lines_2 = test_input_2.split('\\n')[1:-1]\n",
    "\n",
    "test_input_3 = \"\"\"\n",
    "LR\n",
    "\n",
    "11A = (11B, XXX)\n",
    "11B = (XXX, 11Z)\n",
    "11Z = (11B, XXX)\n",
    "22A = (22B, XXX)\n",
    "22B = (22C, 22C)\n",
    "22C = (22Z, 22Z)\n",
    "22Z = (22B, 22B)\n",
    "XXX = (XXX, XXX)\n",
    "\"\"\"\n",
    "\n",
    "test_lines_3 = test_input_3.split('\\n')[1:-1]"
   ]
  },
  {
   "cell_type": "code",
   "execution_count": 267,
   "id": "7dbb2f0b-e423-4b4d-90a9-92d7072261e7",
   "metadata": {},
   "outputs": [],
   "source": [
    "lines = []\n",
    "with open('./input8.txt') as f:\n",
    "    for line in f:\n",
    "        lines.append(line[:-1])\n",
    "\n",
    "# lines = test_lines_3"
   ]
  },
  {
   "cell_type": "code",
   "execution_count": 268,
   "id": "ace707fc-5887-478c-84ba-6eaea93118b9",
   "metadata": {},
   "outputs": [],
   "source": [
    "instructions = lines[0]\n",
    "the_map = {}\n",
    "for line in lines[2:]:\n",
    "    start, options = line.split('=')\n",
    "    start = start.strip()\n",
    "    left, right = options.replace('(','').replace(')', '').replace(' ', '').split(',')\n",
    "    the_map[start] = (left, right)"
   ]
  },
  {
   "cell_type": "code",
   "execution_count": 269,
   "id": "d8b18f50-96e8-4ed9-9efc-1ea508c96226",
   "metadata": {},
   "outputs": [
    {
     "data": {
      "text/plain": [
       "24253"
      ]
     },
     "execution_count": 269,
     "metadata": {},
     "output_type": "execute_result"
    }
   ],
   "source": [
    "current_position = 'AAA'\n",
    "n_steps = 0\n",
    "while current_position != 'ZZZ':\n",
    "    instruction = instructions[n_steps % len(instructions)]\n",
    "    if instruction == 'L':\n",
    "        current_position = the_map[current_position][0]\n",
    "    else:\n",
    "        current_position = the_map[current_position][1]\n",
    "\n",
    "    n_steps += 1\n",
    "n_steps"
   ]
  },
  {
   "cell_type": "code",
   "execution_count": 325,
   "id": "45fbcb72-a5c3-4d46-972b-4b432b4a3252",
   "metadata": {},
   "outputs": [
    {
     "data": {
      "text/plain": [
       "12357789728873"
      ]
     },
     "execution_count": 325,
     "metadata": {},
     "output_type": "execute_result"
    }
   ],
   "source": [
    "result = 1\n",
    "periods = []\n",
    "for current_position in the_map.keys():\n",
    "    if not current_position.endswith('A'):\n",
    "        continue\n",
    "    n_steps = 0\n",
    "    z_poss = []\n",
    "    while True:\n",
    "        instruction = instructions[n_steps % len(instructions)]\n",
    "        if instruction == 'L':\n",
    "            current_position = the_map[current_position][0]\n",
    "        else:\n",
    "            current_position = the_map[current_position][1]\n",
    "        n_steps += 1\n",
    "\n",
    "        if current_position.endswith('Z'):\n",
    "            period = n_steps\n",
    "            periods.append(period)\n",
    "            break\n",
    "\n",
    "\n",
    "    for i in range(period):\n",
    "        instruction = instructions[(period+i) % len(instructions)]\n",
    "        if instruction == 'L':\n",
    "            current_position = the_map[current_position][0]\n",
    "        else:\n",
    "            current_position = the_map[current_position][1]\n",
    "\n",
    "current_increment = periods[0]\n",
    "for period in periods[1:]:\n",
    "    current_val = current_increment\n",
    "    while (current_val % period) != 0:\n",
    "        current_val += current_increment\n",
    "\n",
    "    current_increment = current_val\n",
    "\n",
    "current_increment"
   ]
  },
  {
   "cell_type": "code",
   "execution_count": 320,
   "id": "07a88dfd-5aca-4d10-9473-68f0675799b5",
   "metadata": {},
   "outputs": [],
   "source": [
    "c = periods[0]\n",
    "while (c % periods[1]) != 0:\n",
    "    c += periods[0]"
   ]
  },
  {
   "cell_type": "code",
   "execution_count": 321,
   "id": "455ca0e6-f878-41dd-b248-df04f6a39101",
   "metadata": {},
   "outputs": [
    {
     "data": {
      "text/plain": [
       "1721963"
      ]
     },
     "execution_count": 321,
     "metadata": {},
     "output_type": "execute_result"
    }
   ],
   "source": [
    "c"
   ]
  },
  {
   "cell_type": "code",
   "execution_count": null,
   "id": "4c97482b-8fd8-44f4-bd01-a72a551bd1d0",
   "metadata": {},
   "outputs": [],
   "source": [
    "[24253, 48506, 72759, 97012, 121265]\n",
    "[24253, 24253, 24253, 24253]\n",
    "QRV\n",
    "[21797, 43594, 65391, 87188, 108985]\n",
    "[21797, 21797, 21797, 21797]\n",
    "JLP\n",
    "[14429, 28858, 43287, 57716, 72145]\n",
    "[14429, 14429, 14429, 14429]\n",
    "NBF\n",
    "[16271, 32542, 48813, 65084, 81355]\n",
    "[16271, 16271, 16271, 16271]\n",
    "RBL\n",
    "[20569, 41138, 61707, 82276, 102845]\n",
    "[20569, 20569, 20569, 20569]\n",
    "BVG\n",
    "[13201, 26402, 39603, 52804, 66005]\n",
    "[13201, 13201, 13201, 13201]\n",
    "PDJ"
   ]
  },
  {
   "cell_type": "markdown",
   "id": "8990517d-62dc-46c7-9f9d-182e3cdd9705",
   "metadata": {},
   "source": [
    "# Day 9"
   ]
  },
  {
   "cell_type": "code",
   "execution_count": 231,
   "id": "35af19c7-5db0-4532-8a19-44aa92dfb635",
   "metadata": {},
   "outputs": [],
   "source": [
    "test_input = \"\"\"\n",
    "0 3 6 9 12 15\n",
    "1 3 6 10 15 21\n",
    "10 13 16 21 30 45\n",
    "\"\"\"\n",
    "\n",
    "test_lines = test_input.split('\\n')[1:-1]"
   ]
  },
  {
   "cell_type": "code",
   "execution_count": 262,
   "id": "4452202c-0459-450f-8f85-ad79e1b089b7",
   "metadata": {},
   "outputs": [],
   "source": [
    "lines = []\n",
    "with open('./input9.txt') as f:\n",
    "    for line in f:\n",
    "        lines.append(line[:-1])\n",
    "\n",
    "# lines = test_lines"
   ]
  },
  {
   "cell_type": "code",
   "execution_count": 263,
   "id": "fdb79482-1d9d-4114-8d8b-f903c8fcfe9d",
   "metadata": {},
   "outputs": [
    {
     "data": {
      "text/plain": [
       "1930746032"
      ]
     },
     "execution_count": 263,
     "metadata": {},
     "output_type": "execute_result"
    }
   ],
   "source": [
    "result = 0\n",
    "for line in lines:\n",
    "    sequence = list(map(int, line.split()))\n",
    "\n",
    "    diff_sequences = [sequence]\n",
    "    while any(map(bool,diff_sequences[-1])):\n",
    "        diff_sequence = [v2-v1 for v1,v2 in zip(diff_sequences[-1][:-1], diff_sequences[-1][1:])]\n",
    "        diff_sequences.append(diff_sequence)\n",
    "    \n",
    "    new_val = sum(diff_sequence[-1] for diff_sequence in diff_sequences)\n",
    "    result += new_val\n",
    "result"
   ]
  },
  {
   "cell_type": "code",
   "execution_count": 264,
   "id": "5bbf9893-34ca-4dc9-8e46-73b839add037",
   "metadata": {},
   "outputs": [
    {
     "data": {
      "text/plain": [
       "1154"
      ]
     },
     "execution_count": 264,
     "metadata": {},
     "output_type": "execute_result"
    }
   ],
   "source": [
    "result = 0\n",
    "for line in lines:\n",
    "    sequence = list(map(int, line.split()))\n",
    "\n",
    "    diff_sequences = [sequence]\n",
    "    while any(map(bool,diff_sequences[-1])):\n",
    "        diff_sequence = [v2-v1 for v1,v2 in zip(diff_sequences[-1][:-1], diff_sequences[-1][1:])]\n",
    "        diff_sequences.append(diff_sequence)\n",
    "\n",
    "    new_val = 0\n",
    "    for diff_sequence in diff_sequences[::-1]:\n",
    "        new_val = diff_sequence[0] - new_val\n",
    "\n",
    "    result += new_val\n",
    "result"
   ]
  }
 ],
 "metadata": {
  "kernelspec": {
   "display_name": "Python 3 (ipykernel)",
   "language": "python",
   "name": "python3"
  },
  "language_info": {
   "codemirror_mode": {
    "name": "ipython",
    "version": 3
   },
   "file_extension": ".py",
   "mimetype": "text/x-python",
   "name": "python",
   "nbconvert_exporter": "python",
   "pygments_lexer": "ipython3",
   "version": "3.10.9"
  }
 },
 "nbformat": 4,
 "nbformat_minor": 5
}
